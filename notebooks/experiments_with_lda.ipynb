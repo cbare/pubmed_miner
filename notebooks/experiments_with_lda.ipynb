{
 "cells": [
  {
   "cell_type": "code",
   "execution_count": 1,
   "metadata": {},
   "outputs": [
    {
     "name": "stdout",
     "output_type": "stream",
     "text": [
      "3.7.3 (default, Mar 27 2019, 09:23:15) \n",
      "[Clang 10.0.1 (clang-1001.0.46.3)]\n"
     ]
    }
   ],
   "source": [
    "import sys\n",
    "print(sys.version)"
   ]
  },
  {
   "cell_type": "code",
   "execution_count": 556,
   "metadata": {},
   "outputs": [],
   "source": [
    "import io\n",
    "import pandas as pd\n",
    "import numpy as np\n",
    "import random\n",
    "import re\n",
    "import requests\n",
    "from collections import namedtuple\n",
    "from lxml import etree"
   ]
  },
  {
   "cell_type": "markdown",
   "metadata": {},
   "source": [
    "# Read abstracts from PubMed API"
   ]
  },
  {
   "cell_type": "code",
   "execution_count": 4,
   "metadata": {},
   "outputs": [],
   "source": [
    "PMID_XPATH = 'MedlineCitation/PMID/text()'\n",
    "TITLE_XPATH = 'MedlineCitation/Article/ArticleTitle/text()'\n",
    "ABSTRACT_XPATH = 'MedlineCitation/Article/Abstract/AbstractText/text()'"
   ]
  },
  {
   "cell_type": "code",
   "execution_count": 557,
   "metadata": {},
   "outputs": [],
   "source": [
    "filename = '../data/pmids_gold_set_labeled.txt'\n",
    "labeled_set = pd.read_csv(filename, sep='\\t', names=['pmid', 'topic'])"
   ]
  },
  {
   "cell_type": "code",
   "execution_count": 558,
   "metadata": {},
   "outputs": [],
   "source": [
    "Article = namedtuple('Article', 'pmid title abstract')"
   ]
  },
  {
   "cell_type": "code",
   "execution_count": 559,
   "metadata": {},
   "outputs": [],
   "source": [
    "def join_text(nodes, delim='\\n'):\n",
    "    return delim.join(nodes) if nodes else ''"
   ]
  },
  {
   "cell_type": "code",
   "execution_count": 562,
   "metadata": {},
   "outputs": [],
   "source": [
    "def fetch_abstracts(pubmed_ids):\n",
    "    \"\"\"\n",
    "    Fetches abstracts from the Entrez API.\n",
    "\n",
    "    Returns a dict mapping pubmed ids to abstracts.\n",
    "    \"\"\"\n",
    "    url = ('https://eutils.ncbi.nlm.nih.gov/entrez/eutils/'\n",
    "          'efetch.fcgi'\n",
    "          '?db=pubmed'\n",
    "          '&retmode=xml'\n",
    "          '&rettype=abstract'\n",
    "          '&id={ids}').format(ids=','.join(str(pmid) for pmid in pubmed_ids))\n",
    "\n",
    "    ## stream XML response into lxml parser\n",
    "    response = requests.get(url, stream=True)\n",
    "    root = etree.parse(io.BytesIO(response.content))\n",
    "\n",
    "    ## extract abstracts for each article\n",
    "    return [Article(\n",
    "            pmid = join_text(article.xpath(PMID_XPATH)),\n",
    "            title = join_text(article.xpath(TITLE_XPATH)),\n",
    "            abstract = join_text(article.xpath(ABSTRACT_XPATH)),\n",
    "        )\n",
    "        for article in root.xpath('PubmedArticle')]"
   ]
  },
  {
   "cell_type": "code",
   "execution_count": 563,
   "metadata": {},
   "outputs": [
    {
     "name": "stdout",
     "output_type": "stream",
     "text": [
      "103\n"
     ]
    }
   ],
   "source": [
    "articles = fetch_abstracts(labeled_set.pmid)\n",
    "print(len(articles))"
   ]
  },
  {
   "cell_type": "markdown",
   "metadata": {},
   "source": [
    "# Look at most common words"
   ]
  },
  {
   "cell_type": "code",
   "execution_count": 564,
   "metadata": {},
   "outputs": [],
   "source": [
    "import gensim\n",
    "from gensim import corpora\n",
    "from gensim import utils\n",
    "from gensim.parsing.preprocessing import preprocess_documents, preprocess_string, remove_stopwords\n",
    "from collections import Counter"
   ]
  },
  {
   "cell_type": "markdown",
   "metadata": {},
   "source": [
    "Convert titles/abstracts into lists of individual words, filtering out stop words"
   ]
  },
  {
   "cell_type": "code",
   "execution_count": 565,
   "metadata": {},
   "outputs": [],
   "source": [
    "texts = [\n",
    "    (remove_stopwords(a.title.lower()).split() +\n",
    "     remove_stopwords(a.abstract.lower()).split())\n",
    "    for a in articles\n",
    "]"
   ]
  },
  {
   "cell_type": "code",
   "execution_count": 566,
   "metadata": {},
   "outputs": [],
   "source": [
    "df = Counter(w for t in texts for w in t)"
   ]
  },
  {
   "cell_type": "code",
   "execution_count": 567,
   "metadata": {},
   "outputs": [
    {
     "data": {
      "text/plain": [
       "4196"
      ]
     },
     "execution_count": 567,
     "metadata": {},
     "output_type": "execute_result"
    }
   ],
   "source": [
    "len(df)"
   ]
  },
  {
   "cell_type": "markdown",
   "metadata": {},
   "source": [
    "How many words occur more than once in the corpus?"
   ]
  },
  {
   "cell_type": "code",
   "execution_count": 568,
   "metadata": {},
   "outputs": [
    {
     "data": {
      "text/plain": [
       "1646"
      ]
     },
     "execution_count": 568,
     "metadata": {},
     "output_type": "execute_result"
    }
   ],
   "source": [
    "sum(n>1 for w,n in df.items())"
   ]
  },
  {
   "cell_type": "code",
   "execution_count": 569,
   "metadata": {},
   "outputs": [
    {
     "data": {
      "text/plain": [
       "[('cystic', 124),\n",
       " ('breast', 121),\n",
       " ('patients', 115),\n",
       " ('cancer', 85),\n",
       " ('fibrosis', 84),\n",
       " ('clinical', 80),\n",
       " ('treatment', 72),\n",
       " ('disease', 66),\n",
       " ('osteogenesis', 53),\n",
       " ('mutations', 51),\n",
       " ('genetic', 48),\n",
       " ('triple-negative', 47),\n",
       " ('expression', 38),\n",
       " ('tnbc', 38),\n",
       " ('bone', 38),\n",
       " ('bbs', 38),\n",
       " ('tumor', 37),\n",
       " ('type', 36),\n",
       " ('gene', 35),\n",
       " ('negative', 34)]"
      ]
     },
     "execution_count": 569,
     "metadata": {},
     "output_type": "execute_result"
    }
   ],
   "source": [
    "df.most_common(20)"
   ]
  },
  {
   "cell_type": "code",
   "execution_count": 570,
   "metadata": {},
   "outputs": [
    {
     "name": "stdout",
     "output_type": "stream",
     "text": [
      "38 12 1\n"
     ]
    }
   ],
   "source": [
    "print(df['tnbc'],df['(tnbc)'],df['(tnbc),'])"
   ]
  },
  {
   "cell_type": "code",
   "execution_count": 571,
   "metadata": {},
   "outputs": [
    {
     "data": {
      "text/plain": [
       "[('triple-negative', 47),\n",
       " ('er-positive,', 1),\n",
       " ('her2-positive', 1),\n",
       " ('mir-26b,', 3),\n",
       " ('up-regulation', 1),\n",
       " ('up-regulated', 1),\n",
       " ('over-expression', 1),\n",
       " ('up-regulating', 1),\n",
       " ('gper-1.', 1),\n",
       " ('17β-oestradiol', 1)]"
      ]
     },
     "execution_count": 571,
     "metadata": {},
     "output_type": "execute_result"
    }
   ],
   "source": [
    "[(w,n) for w,n in df.items() if '-' in w][:10]"
   ]
  },
  {
   "cell_type": "markdown",
   "metadata": {},
   "source": [
    "## Preprocess"
   ]
  },
  {
   "cell_type": "code",
   "execution_count": 572,
   "metadata": {},
   "outputs": [],
   "source": [
    "medical_stopwords = {'patient', 'patients', 'clinical', 'treatment', 'disease',\n",
    "                     'present', 'new', 'diagnosis', 'disorder', 'disorders', 'associated'}\n",
    "STOPWORDS = gensim.parsing.preprocessing.STOPWORDS | medical_stopwords"
   ]
  },
  {
   "cell_type": "code",
   "execution_count": 573,
   "metadata": {},
   "outputs": [],
   "source": [
    "def remove_stopwords(s):\n",
    "    s = utils.to_unicode(s)\n",
    "    return \" \".join(w for w in s.split() if w not in STOPWORDS)"
   ]
  },
  {
   "cell_type": "code",
   "execution_count": 574,
   "metadata": {},
   "outputs": [],
   "source": [
    "filters = [\n",
    "    lambda x: x.lower(),\n",
    "    gensim.parsing.preprocessing.strip_punctuation,\n",
    "    gensim.parsing.preprocessing.strip_multiple_whitespaces,\n",
    "    gensim.parsing.preprocessing.strip_numeric,\n",
    "    remove_stopwords,\n",
    "    #strip_short,\n",
    "    gensim.parsing.preprocessing.stem_text\n",
    "]"
   ]
  },
  {
   "cell_type": "code",
   "execution_count": 575,
   "metadata": {},
   "outputs": [],
   "source": [
    "texts = [preprocess_string(a.title + ' ' + a.abstract, filters=filters) for a in articles]"
   ]
  },
  {
   "cell_type": "code",
   "execution_count": 576,
   "metadata": {},
   "outputs": [],
   "source": [
    "df = Counter(w for t in texts for w in t)"
   ]
  },
  {
   "cell_type": "code",
   "execution_count": 577,
   "metadata": {},
   "outputs": [
    {
     "data": {
      "text/plain": [
       "2197"
      ]
     },
     "execution_count": 577,
     "metadata": {},
     "output_type": "execute_result"
    }
   ],
   "source": [
    "len(df)"
   ]
  },
  {
   "cell_type": "code",
   "execution_count": 578,
   "metadata": {},
   "outputs": [
    {
     "data": {
      "text/plain": [
       "551"
      ]
     },
     "execution_count": 578,
     "metadata": {},
     "output_type": "execute_result"
    }
   ],
   "source": [
    "sum(n>4 for w,n in df.items())"
   ]
  },
  {
   "cell_type": "code",
   "execution_count": 579,
   "metadata": {},
   "outputs": [],
   "source": [
    "texts = [[w for w in t if df[w]>1] for t in texts]"
   ]
  },
  {
   "cell_type": "code",
   "execution_count": null,
   "metadata": {},
   "outputs": [],
   "source": []
  },
  {
   "cell_type": "code",
   "execution_count": null,
   "metadata": {},
   "outputs": [],
   "source": []
  },
  {
   "cell_type": "code",
   "execution_count": 580,
   "metadata": {},
   "outputs": [],
   "source": [
    "dictionary = corpora.Dictionary(texts)"
   ]
  },
  {
   "cell_type": "code",
   "execution_count": 581,
   "metadata": {},
   "outputs": [],
   "source": [
    "bows = [dictionary.doc2bow(text) for text in texts]"
   ]
  },
  {
   "cell_type": "code",
   "execution_count": 546,
   "metadata": {},
   "outputs": [],
   "source": [
    "from gensim import models"
   ]
  },
  {
   "cell_type": "code",
   "execution_count": 547,
   "metadata": {},
   "outputs": [],
   "source": [
    "tfidf = models.TfidfModel(dictionary=dictionary, normalize=True)"
   ]
  },
  {
   "cell_type": "code",
   "execution_count": 548,
   "metadata": {},
   "outputs": [],
   "source": [
    "botfidfs = [tfidf[bow] for bow in bows]"
   ]
  },
  {
   "cell_type": "code",
   "execution_count": 549,
   "metadata": {},
   "outputs": [],
   "source": [
    "def top_k(vec, dictionary, k=20):\n",
    "    for k,v in sorted(vec, key=lambda x: -x[1])[:k]:\n",
    "        print(f'{dictionary[k]:>20}   {v}')"
   ]
  },
  {
   "cell_type": "code",
   "execution_count": 550,
   "metadata": {},
   "outputs": [
    {
     "name": "stdout",
     "output_type": "stream",
     "text": [
      "               renal   0.37296096196096706\n",
      "             syndrom   0.3390785425690986\n",
      "            children   0.2384791824547612\n",
      "              featur   0.22920249733257314\n",
      "              bardet   0.19206791056397654\n",
      "               biedl   0.19206791056397654\n",
      "              involv   0.18020963145001753\n",
      "                 end   0.17316531595231002\n",
      "            concentr   0.1515510612071996\n",
      "         polydactyli   0.1515510612071996\n",
      "              aspect   0.14333370292829808\n",
      "            diagnost   0.14333370292829808\n",
      "           hypogonad   0.14333370292829808\n",
      "               known   0.14333370292829808\n",
      "                abil   0.13621550341139696\n",
      "            consider   0.13621550341139696\n",
      "             consist   0.13621550341139696\n",
      "          particular   0.13621550341139696\n",
      "              screen   0.13621550341139696\n",
      "             similar   0.13621550341139696\n"
     ]
    }
   ],
   "source": [
    "top_k(botfidfs[0], dictionary)"
   ]
  },
  {
   "cell_type": "code",
   "execution_count": 553,
   "metadata": {},
   "outputs": [
    {
     "data": {
      "text/plain": [
       "Article(pmid='8270381', title='Clinical aspects of renal involvement in Bardet-Biedl syndrome.', abstract='The Bardet-Biedl syndrome (BBS), which consists of polydactyly, obesity, mental retardation, pigmentary retinopathy and hypogonadism has been known since 1922, but due to the great similarity to the clinical manifestations of the Laurence-Moon syndrome (LMS) there is a considerable terminological confusion in the medical literature. An attempt is made at clarifying the problem. Four children from two families have been observed. There were inter- and intrafamilial variabilities of the expression and severity of the particular features, but retinopathy and structural and/or functional abnormalities were found in 100%. The combination of the two can serve as an easy clinical screening for diagnosis of the disease. Renal involvement is considered to be a cardinal feature of the syndrome. The most common and earliest symptoms are polydypso-polyuria and reduced concentrating ability, which may lead to some diagnostic difficulties, especially in infancy. Three children have end-stage renal disease and two of them are on maintenance haemodialysis, which they tolerate well.')"
      ]
     },
     "execution_count": 553,
     "metadata": {},
     "output_type": "execute_result"
    }
   ],
   "source": [
    "articles[0]"
   ]
  },
  {
   "cell_type": "code",
   "execution_count": 554,
   "metadata": {},
   "outputs": [
    {
     "name": "stdout",
     "output_type": "stream",
     "text": [
      "         intradialyt   0.6820470986698516\n",
      "            hypotens   0.5683725822248764\n",
      "              recurr   0.2091858139889342\n",
      "               renal   0.1715992436090235\n",
      "               activ   0.16458631666396037\n",
      "             respons   0.10545601064726189\n",
      "              report   0.09451006953274313\n",
      "                 end   0.079673317766281\n",
      "        characterist   0.07420034720902163\n",
      "              reduct   0.07420034720902163\n",
      "               volum   0.07420034720902163\n",
      "            efficaci   0.06972860466297807\n",
      "       significantli   0.06972860466297807\n",
      "             consequ   0.06594780021172984\n",
      "               induc   0.06594780021172984\n",
      "             consist   0.06267271842693387\n",
      "           intervent   0.06267271842693387\n",
      "             complic   0.05978389155967514\n",
      "               stage   0.057199747869674494\n",
      "             decreas   0.057199747869674494\n"
     ]
    }
   ],
   "source": [
    "top_k(botfidfs[1], dictionary)"
   ]
  },
  {
   "cell_type": "code",
   "execution_count": 555,
   "metadata": {},
   "outputs": [
    {
     "data": {
      "text/plain": [
       "Article(pmid='8712208', title='Midodrine efficacy and pharmacokinetics in a patient with recurrent intradialytic hypotension.', abstract='Recurrent intradialytic hypotension, a complication of hemodialysis, is a consequence of an inadequate compensatory response or a paradoxic response to ultrafiltration-induced volume reduction. We report the use of midodrine, an alpha agonist, in an 18-year-old man with Bardet-Biedl syndrome and recurrent intradialytic hypotension. The clinical features of the intradialytic hypotensive spells are consistent with a paradoxic withdrawal of sympathetic activity, although an underlying abnormality in autonomic dysfunction cannot be excluded. Midodrine significantly increased the intradialytic blood pressure and decreased the intradialytic hypotensive episodes requiring intervention. The pharmacokinetic characteristics of the prodrug midodrine and the active metabolite de-glymidodrine in this patient with end-stage renal disease approximate those reported for patients with normal renal function. However, the prolonged terminal half-life for the active metabolite, de-glymidodrine, warrants careful administration in patients with renal failure.')"
      ]
     },
     "execution_count": 555,
     "metadata": {},
     "output_type": "execute_result"
    }
   ],
   "source": [
    "articles[1]"
   ]
  },
  {
   "cell_type": "code",
   "execution_count": 552,
   "metadata": {},
   "outputs": [],
   "source": [
    "from gensim.models import Phrases"
   ]
  },
  {
   "cell_type": "code",
   "execution_count": 504,
   "metadata": {},
   "outputs": [],
   "source": [
    "bigrams = Phrases(texts, min_count=2)"
   ]
  },
  {
   "cell_type": "code",
   "execution_count": 505,
   "metadata": {},
   "outputs": [
    {
     "data": {
      "text/plain": [
       "['aspect',\n",
       " 'renal',\n",
       " 'involv',\n",
       " 'bardet_biedl',\n",
       " 'syndrom',\n",
       " 'bardet_biedl',\n",
       " 'syndrom_bb',\n",
       " 'consist',\n",
       " 'polydactyli_obes',\n",
       " 'retinopathi',\n",
       " 'hypogonad',\n",
       " 'known',\n",
       " 'great',\n",
       " 'similar',\n",
       " 'manifest',\n",
       " 'laurenc_moon',\n",
       " 'syndrom',\n",
       " 'consider',\n",
       " 'medic',\n",
       " 'literatur',\n",
       " 'attempt',\n",
       " 'clarifi',\n",
       " 'problem',\n",
       " 'children',\n",
       " 'famili',\n",
       " 'observ',\n",
       " 'variabl_express',\n",
       " 'sever',\n",
       " 'particular',\n",
       " 'featur',\n",
       " 'retinopathi',\n",
       " 'structur_function',\n",
       " 'abnorm',\n",
       " 'combin',\n",
       " 'easi',\n",
       " 'screen',\n",
       " 'renal',\n",
       " 'involv',\n",
       " 'consid',\n",
       " 'cardin',\n",
       " 'featur',\n",
       " 'syndrom',\n",
       " 'common',\n",
       " 'earliest',\n",
       " 'symptom',\n",
       " 'reduc',\n",
       " 'concentr',\n",
       " 'abil',\n",
       " 'lead',\n",
       " 'diagnost',\n",
       " 'difficulti',\n",
       " 'especi',\n",
       " 'infanc',\n",
       " 'children',\n",
       " 'end_stage',\n",
       " 'renal',\n",
       " 'mainten',\n",
       " 'toler']"
      ]
     },
     "execution_count": 505,
     "metadata": {},
     "output_type": "execute_result"
    }
   ],
   "source": [
    "bigrams[texts[0]]"
   ]
  },
  {
   "cell_type": "markdown",
   "metadata": {},
   "source": [
    "## LDA"
   ]
  },
  {
   "cell_type": "code",
   "execution_count": 582,
   "metadata": {},
   "outputs": [],
   "source": [
    "from gensim.models.ldamodel import LdaModel"
   ]
  },
  {
   "cell_type": "code",
   "execution_count": 583,
   "metadata": {},
   "outputs": [
    {
     "name": "stdout",
     "output_type": "stream",
     "text": [
      "CPU times: user 10.8 s, sys: 32.5 ms, total: 10.8 s\n",
      "Wall time: 10.9 s\n"
     ]
    }
   ],
   "source": [
    "%%time\n",
    "n_topics = 6\n",
    "lda = LdaModel(bows, id2word=dictionary, num_topics=n_topics,\n",
    "               alpha='auto', eta='auto',\n",
    "               iterations=1000, passes=100)"
   ]
  },
  {
   "cell_type": "markdown",
   "metadata": {},
   "source": [
    "These topics are very confused. It combines bardet-biedl syndrome with neurofibromatosis and splits breast cancer among 3 different topics."
   ]
  },
  {
   "cell_type": "code",
   "execution_count": 584,
   "metadata": {},
   "outputs": [
    {
     "data": {
      "text/plain": [
       "[(0,\n",
       "  '0.050*\"bb\" + 0.021*\"syndrom\" + 0.018*\"biedl\" + 0.018*\"bardet\" + 0.015*\"mutat\" + 0.013*\"cilia\" + 0.010*\"renal\" + 0.010*\"genet\" + 0.010*\"dysfunct\" + 0.009*\"protein\"'),\n",
       " (1,\n",
       "  '0.050*\"fibrosi\" + 0.049*\"cystic\" + 0.022*\"cf\" + 0.016*\"gene\" + 0.013*\"therapi\" + 0.012*\"lung\" + 0.011*\"cftr\" + 0.010*\"smn\" + 0.009*\"mir\" + 0.009*\"regul\"'),\n",
       " (2,\n",
       "  '0.027*\"imperfecta\" + 0.027*\"osteogenesi\" + 0.023*\"bone\" + 0.019*\"type\" + 0.018*\"oi\" + 0.012*\"therapi\" + 0.012*\"collagen\" + 0.011*\"fractur\" + 0.010*\"mutat\" + 0.010*\"gene\"'),\n",
       " (3,\n",
       "  '0.045*\"cancer\" + 0.039*\"breast\" + 0.027*\"cell\" + 0.026*\"neg\" + 0.023*\"tripl\" + 0.022*\"tnbc\" + 0.018*\"tumor\" + 0.017*\"express\" + 0.015*\"ar\" + 0.013*\"respons\"'),\n",
       " (4,\n",
       "  '0.017*\"cystic\" + 0.017*\"fibrosi\" + 0.015*\"genet\" + 0.009*\"motor\" + 0.009*\"function\" + 0.007*\"includ\" + 0.007*\"sma\" + 0.007*\"ifitm\" + 0.007*\"interact\" + 0.006*\"review\"'),\n",
       " (5,\n",
       "  '0.029*\"breast\" + 0.028*\"cancer\" + 0.024*\"neg\" + 0.023*\"tripl\" + 0.022*\"tnbc\" + 0.019*\"neurofibromatosi\" + 0.015*\"tumor\" + 0.009*\"receptor\" + 0.009*\"brca\" + 0.009*\"non\"')]"
      ]
     },
     "execution_count": 584,
     "metadata": {},
     "output_type": "execute_result"
    }
   ],
   "source": [
    "lda.show_topics()"
   ]
  },
  {
   "cell_type": "code",
   "execution_count": 585,
   "metadata": {},
   "outputs": [
    {
     "data": {
      "text/plain": [
       "[(2, 0.20266332), (5, 0.7960896)]"
      ]
     },
     "execution_count": 585,
     "metadata": {},
     "output_type": "execute_result"
    }
   ],
   "source": [
    "lda.get_document_topics(bows[0])"
   ]
  },
  {
   "cell_type": "code",
   "execution_count": 586,
   "metadata": {},
   "outputs": [],
   "source": [
    "dtm = np.array([\n",
    "    [dict(lda.get_document_topics(v)).get(topic, 0.0) for topic in range(n_topics)]\n",
    "    for v in bows\n",
    "])"
   ]
  },
  {
   "cell_type": "code",
   "execution_count": 587,
   "metadata": {},
   "outputs": [],
   "source": [
    "import numpy as np\n",
    "import seaborn as sns; sns.set()\n",
    "import matplotlib.pyplot as plt"
   ]
  },
  {
   "cell_type": "code",
   "execution_count": 588,
   "metadata": {},
   "outputs": [
    {
     "data": {
      "image/png": "[encoded data removed]",
      "text/plain": [
       "<Figure size 720x1440 with 2 Axes>"
      ]
     },
     "metadata": {},
     "output_type": "display_data"
    }
   ],
   "source": [
    "fig, ax = plt.subplots(figsize=(10,20))\n",
    "ax = sns.heatmap(dtm, vmin=0, vmax=1, ax=ax)"
   ]
  },
  {
   "cell_type": "markdown",
   "metadata": {},
   "source": [
    "### Are these documents too short for LDA?"
   ]
  },
  {
   "cell_type": "code",
   "execution_count": 589,
   "metadata": {},
   "outputs": [
    {
     "data": {
      "text/plain": [
       "Text(0, 0.5, 'documents')"
      ]
     },
     "execution_count": 589,
     "metadata": {},
     "output_type": "execute_result"
    },
    {
     "data": {
      "image/png": "[encoded data removed]",
      "text/plain": [
       "<Figure size 432x288 with 1 Axes>"
      ]
     },
     "metadata": {},
     "output_type": "display_data"
    }
   ],
   "source": [
    "sns.distplot([len(t) for t in texts], hist=True,\n",
    "             color = '#336699',\n",
    "             hist_kws={'edgecolor':'black'})\n",
    "\n",
    "plt.title('Histogram of text lengths')\n",
    "plt.xlabel('length in tokens')\n",
    "plt.ylabel('documents')"
   ]
  },
  {
   "cell_type": "markdown",
   "metadata": {},
   "source": [
    "## Coherence measure"
   ]
  },
  {
   "cell_type": "code",
   "execution_count": 594,
   "metadata": {},
   "outputs": [],
   "source": [
    "from gensim.models.coherencemodel import CoherenceModel"
   ]
  },
  {
   "cell_type": "code",
   "execution_count": 595,
   "metadata": {},
   "outputs": [
    {
     "name": "stdout",
     "output_type": "stream",
     "text": [
      "\n",
      "Coherence Score:  0.46379556592156085\n"
     ]
    }
   ],
   "source": [
    "coherence_model_lda = CoherenceModel(model=lda,\n",
    "                                     texts=texts,\n",
    "                                     dictionary=dictionary,\n",
    "                                     coherence='c_v')\n",
    "coherence_lda = coherence_model_lda.get_coherence()\n",
    "print('\\nCoherence Score: ', coherence_lda)"
   ]
  },
  {
   "cell_type": "code",
   "execution_count": 458,
   "metadata": {},
   "outputs": [],
   "source": []
  },
  {
   "cell_type": "code",
   "execution_count": null,
   "metadata": {},
   "outputs": [],
   "source": []
  }
 ],
 "metadata": {
  "kernelspec": {
   "display_name": "Python 3",
   "language": "python",
   "name": "python3"
  },
  "language_info": {
   "codemirror_mode": {
    "name": "ipython",
    "version": 3
   },
   "file_extension": ".py",
   "mimetype": "text/x-python",
   "name": "python",
   "nbconvert_exporter": "python",
   "pygments_lexer": "ipython3",
   "version": "3.7.3"
  }
 },
 "nbformat": 4,
 "nbformat_minor": 2
}
