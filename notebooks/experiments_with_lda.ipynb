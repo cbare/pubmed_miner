{
 "cells": [
  {
   "cell_type": "code",
   "execution_count": 1,
   "metadata": {},
   "outputs": [
    {
     "name": "stdout",
     "output_type": "stream",
     "text": [
      "3.7.3 (default, Mar 27 2019, 09:23:15) \n",
      "[Clang 10.0.1 (clang-1001.0.46.3)]\n"
     ]
    }
   ],
   "source": [
    "import sys\n",
    "print(sys.version)"
   ]
  },
  {
   "cell_type": "code",
   "execution_count": 762,
   "metadata": {},
   "outputs": [],
   "source": [
    "import io\n",
    "import pandas as pd\n",
    "import matplotlib.pyplot as plt\n",
    "import numpy as np\n",
    "import random\n",
    "import re\n",
    "import requests\n",
    "import seaborn as sns; sns.set()\n",
    "from collections import Counter, namedtuple\n",
    "from lxml import etree"
   ]
  },
  {
   "cell_type": "code",
   "execution_count": 558,
   "metadata": {},
   "outputs": [],
   "source": [
    "Article = namedtuple('Article', 'pmid title abstract')"
   ]
  },
  {
   "cell_type": "code",
   "execution_count": 730,
   "metadata": {},
   "outputs": [],
   "source": [
    "def top_k(vec, dictionary, k=20):\n",
    "    for k,v in sorted(vec, key=lambda x: -x[1])[:k]:\n",
    "        print(f'{dictionary[k]:>20}   {v}')"
   ]
  },
  {
   "cell_type": "markdown",
   "metadata": {},
   "source": [
    "# Read abstracts from PubMed API"
   ]
  },
  {
   "cell_type": "code",
   "execution_count": 4,
   "metadata": {},
   "outputs": [],
   "source": [
    "PMID_XPATH = 'MedlineCitation/PMID/text()'\n",
    "TITLE_XPATH = 'MedlineCitation/Article/ArticleTitle/text()'\n",
    "ABSTRACT_XPATH = 'MedlineCitation/Article/Abstract/AbstractText/text()'"
   ]
  },
  {
   "cell_type": "code",
   "execution_count": 557,
   "metadata": {},
   "outputs": [],
   "source": [
    "filename = '../data/pmids_gold_set_labeled.txt'\n",
    "labeled_set = pd.read_csv(filename, sep='\\t', names=['pmid', 'topic'])"
   ]
  },
  {
   "cell_type": "code",
   "execution_count": 558,
   "metadata": {},
   "outputs": [],
   "source": [
    "Article = namedtuple('Article', 'pmid title abstract')"
   ]
  },
  {
   "cell_type": "code",
   "execution_count": 559,
   "metadata": {},
   "outputs": [],
   "source": [
    "def join_text(nodes, delim='\\n'):\n",
    "    return delim.join(nodes) if nodes else ''"
   ]
  },
  {
   "cell_type": "code",
   "execution_count": 562,
   "metadata": {},
   "outputs": [],
   "source": [
    "def fetch_abstracts(pubmed_ids):\n",
    "    \"\"\"\n",
    "    Fetches abstracts from the Entrez API.\n",
    "\n",
    "    Returns a dict mapping pubmed ids to abstracts.\n",
    "    \"\"\"\n",
    "    url = ('https://eutils.ncbi.nlm.nih.gov/entrez/eutils/'\n",
    "          'efetch.fcgi'\n",
    "          '?db=pubmed'\n",
    "          '&retmode=xml'\n",
    "          '&rettype=abstract'\n",
    "          '&id={ids}').format(ids=','.join(str(pmid) for pmid in pubmed_ids))\n",
    "\n",
    "    ## stream XML response into lxml parser\n",
    "    response = requests.get(url, stream=True)\n",
    "    root = etree.parse(io.BytesIO(response.content))\n",
    "\n",
    "    ## extract abstracts for each article\n",
    "    return [Article(\n",
    "            pmid = join_text(article.xpath(PMID_XPATH)),\n",
    "            title = join_text(article.xpath(TITLE_XPATH)),\n",
    "            abstract = join_text(article.xpath(ABSTRACT_XPATH)),\n",
    "        )\n",
    "        for article in root.xpath('PubmedArticle')]"
   ]
  },
  {
   "cell_type": "code",
   "execution_count": 563,
   "metadata": {},
   "outputs": [
    {
     "name": "stdout",
     "output_type": "stream",
     "text": [
      "103\n"
     ]
    }
   ],
   "source": [
    "articles = fetch_abstracts(labeled_set.pmid)\n",
    "print(len(articles))"
   ]
  },
  {
   "cell_type": "markdown",
   "metadata": {},
   "source": [
    "# Look at most common words"
   ]
  },
  {
   "cell_type": "code",
   "execution_count": 761,
   "metadata": {},
   "outputs": [],
   "source": [
    "import gensim\n",
    "from gensim import corpora\n",
    "from gensim import models\n",
    "from gensim import utils\n",
    "from gensim.parsing.preprocessing import preprocess_documents, preprocess_string, remove_stopwords\n",
    "from gensim.models.coherencemodel import CoherenceModel"
   ]
  },
  {
   "cell_type": "markdown",
   "metadata": {},
   "source": [
    "Convert titles/abstracts into lists of individual words, filtering out stop words"
   ]
  },
  {
   "cell_type": "code",
   "execution_count": 565,
   "metadata": {},
   "outputs": [],
   "source": [
    "texts = [\n",
    "    (remove_stopwords(a.title.lower()).split() +\n",
    "     remove_stopwords(a.abstract.lower()).split())\n",
    "    for a in articles\n",
    "]"
   ]
  },
  {
   "cell_type": "code",
   "execution_count": 566,
   "metadata": {},
   "outputs": [],
   "source": [
    "df = Counter(w for t in texts for w in t)"
   ]
  },
  {
   "cell_type": "code",
   "execution_count": 567,
   "metadata": {},
   "outputs": [
    {
     "data": {
      "text/plain": [
       "4196"
      ]
     },
     "execution_count": 567,
     "metadata": {},
     "output_type": "execute_result"
    }
   ],
   "source": [
    "len(df)"
   ]
  },
  {
   "cell_type": "markdown",
   "metadata": {},
   "source": [
    "How many words occur more than once in the corpus?"
   ]
  },
  {
   "cell_type": "code",
   "execution_count": 568,
   "metadata": {},
   "outputs": [
    {
     "data": {
      "text/plain": [
       "1646"
      ]
     },
     "execution_count": 568,
     "metadata": {},
     "output_type": "execute_result"
    }
   ],
   "source": [
    "sum(n>1 for w,n in df.items())"
   ]
  },
  {
   "cell_type": "code",
   "execution_count": 569,
   "metadata": {},
   "outputs": [
    {
     "data": {
      "text/plain": [
       "[('cystic', 124),\n",
       " ('breast', 121),\n",
       " ('patients', 115),\n",
       " ('cancer', 85),\n",
       " ('fibrosis', 84),\n",
       " ('clinical', 80),\n",
       " ('treatment', 72),\n",
       " ('disease', 66),\n",
       " ('osteogenesis', 53),\n",
       " ('mutations', 51),\n",
       " ('genetic', 48),\n",
       " ('triple-negative', 47),\n",
       " ('expression', 38),\n",
       " ('tnbc', 38),\n",
       " ('bone', 38),\n",
       " ('bbs', 38),\n",
       " ('tumor', 37),\n",
       " ('type', 36),\n",
       " ('gene', 35),\n",
       " ('negative', 34)]"
      ]
     },
     "execution_count": 569,
     "metadata": {},
     "output_type": "execute_result"
    }
   ],
   "source": [
    "df.most_common(20)"
   ]
  },
  {
   "cell_type": "code",
   "execution_count": 570,
   "metadata": {},
   "outputs": [
    {
     "name": "stdout",
     "output_type": "stream",
     "text": [
      "38 12 1\n"
     ]
    }
   ],
   "source": [
    "print(df['tnbc'],df['(tnbc)'],df['(tnbc),'])"
   ]
  },
  {
   "cell_type": "code",
   "execution_count": 571,
   "metadata": {},
   "outputs": [
    {
     "data": {
      "text/plain": [
       "[('triple-negative', 47),\n",
       " ('er-positive,', 1),\n",
       " ('her2-positive', 1),\n",
       " ('mir-26b,', 3),\n",
       " ('up-regulation', 1),\n",
       " ('up-regulated', 1),\n",
       " ('over-expression', 1),\n",
       " ('up-regulating', 1),\n",
       " ('gper-1.', 1),\n",
       " ('17β-oestradiol', 1)]"
      ]
     },
     "execution_count": 571,
     "metadata": {},
     "output_type": "execute_result"
    }
   ],
   "source": [
    "[(w,n) for w,n in df.items() if '-' in w][:10]"
   ]
  },
  {
   "cell_type": "markdown",
   "metadata": {},
   "source": [
    "## Preprocess"
   ]
  },
  {
   "cell_type": "code",
   "execution_count": 867,
   "metadata": {},
   "outputs": [],
   "source": [
    "medical_stopwords = {'patient', 'patients', 'clinical', 'treatment', 'disease',\n",
    "                     'present', 'new', 'diagnosis', 'disorder', 'disorders', 'associated'}\n",
    "STOPWORDS = gensim.parsing.preprocessing.STOPWORDS | medical_stopwords"
   ]
  },
  {
   "cell_type": "code",
   "execution_count": 868,
   "metadata": {},
   "outputs": [],
   "source": [
    "def remove_stopwords(s):\n",
    "    s = utils.to_unicode(s)\n",
    "    return \" \".join(w for w in s.split() if w not in STOPWORDS)"
   ]
  },
  {
   "cell_type": "code",
   "execution_count": 869,
   "metadata": {},
   "outputs": [],
   "source": [
    "filters = [\n",
    "    lambda x: x.lower(),\n",
    "    gensim.parsing.preprocessing.strip_punctuation,\n",
    "    gensim.parsing.preprocessing.strip_multiple_whitespaces,\n",
    "    gensim.parsing.preprocessing.strip_numeric,\n",
    "    remove_stopwords,\n",
    "    #strip_short,\n",
    "    gensim.parsing.preprocessing.stem_text\n",
    "]"
   ]
  },
  {
   "cell_type": "code",
   "execution_count": 870,
   "metadata": {},
   "outputs": [],
   "source": [
    "texts = [preprocess_string(a.title + ' ' + a.abstract, filters=filters) for a in articles]"
   ]
  },
  {
   "cell_type": "code",
   "execution_count": 871,
   "metadata": {},
   "outputs": [],
   "source": [
    "df = Counter(w for t in texts for w in t)"
   ]
  },
  {
   "cell_type": "code",
   "execution_count": 872,
   "metadata": {},
   "outputs": [
    {
     "data": {
      "text/plain": [
       "2197"
      ]
     },
     "execution_count": 872,
     "metadata": {},
     "output_type": "execute_result"
    }
   ],
   "source": [
    "len(df)"
   ]
  },
  {
   "cell_type": "code",
   "execution_count": 892,
   "metadata": {},
   "outputs": [
    {
     "name": "stdout",
     "output_type": "stream",
     "text": [
      "  0 2197\n",
      "  1 1287\n",
      "  2  916\n",
      "  3  697\n",
      "  4  551\n",
      "  5  449\n",
      "  6  389\n",
      "  7  329\n",
      "  8  276\n",
      "  9  241\n",
      " 10  213\n",
      " 11  196\n",
      " 12  179\n",
      " 13  162\n",
      " 14  141\n",
      " 15  133\n",
      " 16  117\n",
      " 17  103\n",
      " 18   93\n",
      " 19   87\n"
     ]
    }
   ],
   "source": [
    "for i in range(20):\n",
    "    print('{:>3} {:4}'.format(i, sum(n>i for w,n in df.items())))"
   ]
  },
  {
   "cell_type": "code",
   "execution_count": 874,
   "metadata": {},
   "outputs": [],
   "source": [
    "texts = [[w for w in t if (len(w) > 1 and df[w]>3)] for t in texts]"
   ]
  },
  {
   "cell_type": "markdown",
   "metadata": {},
   "source": [
    "### How many non-filtered words do the texts have?"
   ]
  },
  {
   "cell_type": "code",
   "execution_count": 875,
   "metadata": {},
   "outputs": [
    {
     "data": {
      "text/plain": [
       "Text(0, 0.5, 'documents')"
      ]
     },
     "execution_count": 875,
     "metadata": {},
     "output_type": "execute_result"
    },
    {
     "data": {
      "image/png": "[encoded data removed]",
      "text/plain": [
       "<Figure size 432x288 with 1 Axes>"
      ]
     },
     "metadata": {},
     "output_type": "display_data"
    }
   ],
   "source": [
    "sns.distplot([len(t) for t in texts],\n",
    "             hist=True, kde=False,\n",
    "             color = '#336699',\n",
    "             hist_kws={'edgecolor':'black'})\n",
    "\n",
    "plt.title('Histogram of text lengths')\n",
    "plt.xlabel('length in tokens')\n",
    "plt.ylabel('documents')"
   ]
  },
  {
   "cell_type": "code",
   "execution_count": 964,
   "metadata": {},
   "outputs": [
    {
     "data": {
      "image/png": "[encoded data removed]",
      "text/plain": [
       "<Figure size 432x288 with 1 Axes>"
      ]
     },
     "metadata": {},
     "output_type": "display_data"
    }
   ],
   "source": [
    "ax = sns.distplot([c for w,c in counts.items()],\n",
    "                  hist=True, kde=False,\n",
    "                  color = '#336699',\n",
    "                  hist_kws={'edgecolor':'black'})\n",
    "\n",
    "plt.title('Histogram of word occurrences')\n",
    "plt.xlabel('occurrences')\n",
    "plt.ylabel('log number of words')\n",
    "ax.set_yscale('log')"
   ]
  },
  {
   "cell_type": "markdown",
   "metadata": {},
   "source": [
    "## Add bigrams and trigrams"
   ]
  },
  {
   "cell_type": "code",
   "execution_count": 876,
   "metadata": {},
   "outputs": [],
   "source": [
    "bigrams = models.Phrases(texts, min_count=3)\n",
    "trigrams = models.Phrases(bigrams[texts], min_count=3)"
   ]
  },
  {
   "cell_type": "code",
   "execution_count": 877,
   "metadata": {},
   "outputs": [],
   "source": [
    "texts = [text + [x for x in bigrams[text] if '_' in x]\n",
    "              + [x for x in trigrams[text] if '_' in x]\n",
    "         for text in texts]"
   ]
  },
  {
   "cell_type": "code",
   "execution_count": 879,
   "metadata": {},
   "outputs": [],
   "source": [
    "dictionary = corpora.Dictionary(texts)\n",
    "bows = [dictionary.doc2bow(text) for text in texts]"
   ]
  },
  {
   "cell_type": "markdown",
   "metadata": {},
   "source": [
    "## tfidfs"
   ]
  },
  {
   "cell_type": "code",
   "execution_count": 839,
   "metadata": {},
   "outputs": [],
   "source": [
    "tfidf = models.TfidfModel(dictionary=dictionary, normalize=True)"
   ]
  },
  {
   "cell_type": "code",
   "execution_count": 840,
   "metadata": {},
   "outputs": [],
   "source": [
    "tfidf_vectors = [tfidf[bow] for bow in bows]"
   ]
  },
  {
   "cell_type": "markdown",
   "metadata": {},
   "source": [
    "## LDA"
   ]
  },
  {
   "cell_type": "code",
   "execution_count": 880,
   "metadata": {},
   "outputs": [],
   "source": [
    "from gensim.models.ldamodel import LdaModel"
   ]
  },
  {
   "cell_type": "code",
   "execution_count": 881,
   "metadata": {},
   "outputs": [],
   "source": [
    "vectors = bows"
   ]
  },
  {
   "cell_type": "code",
   "execution_count": 882,
   "metadata": {},
   "outputs": [
    {
     "name": "stdout",
     "output_type": "stream",
     "text": [
      "CPU times: user 1min 24s, sys: 275 ms, total: 1min 24s\n",
      "Wall time: 1min 25s\n"
     ]
    }
   ],
   "source": [
    "%%time\n",
    "n_topics = 6\n",
    "lda = LdaModel(vectors, id2word=dictionary, num_topics=n_topics,\n",
    "               alpha='auto', eta='auto',\n",
    "               iterations=500,\n",
    "               passes=1000,\n",
    "               eval_every=1)"
   ]
  },
  {
   "cell_type": "code",
   "execution_count": 883,
   "metadata": {},
   "outputs": [
    {
     "data": {
      "text/plain": [
       "[(0,\n",
       "  '0.071*\"bb\" + 0.030*\"syndrom\" + 0.026*\"bardet_biedl\" + 0.026*\"bardet\" + 0.026*\"biedl\" + 0.015*\"genet\" + 0.015*\"syndrom_bb\" + 0.013*\"protein\" + 0.012*\"obes\" + 0.011*\"defect\"'),\n",
       " (1,\n",
       "  '0.042*\"tripl_neg\" + 0.035*\"breast_cancer\" + 0.034*\"mutat\" + 0.022*\"breast\" + 0.022*\"neg\" + 0.021*\"tripl\" + 0.020*\"cancer\" + 0.014*\"mir\" + 0.014*\"brca\" + 0.014*\"mir_mir\"'),\n",
       " (2,\n",
       "  '0.039*\"neurofibromatosi\" + 0.030*\"nf\" + 0.023*\"qualiti_life\" + 0.015*\"report\" + 0.014*\"neurofibromatosi_type\" + 0.014*\"qualiti\" + 0.012*\"case\" + 0.012*\"includ\" + 0.012*\"mutat\" + 0.012*\"spinal_neurofibromatosi\"'),\n",
       " (3,\n",
       "  '0.030*\"fibrosi\" + 0.029*\"cystic\" + 0.029*\"cystic_fibrosi\" + 0.017*\"imperfecta\" + 0.016*\"osteogenesi_imperfecta\" + 0.016*\"osteogenesi\" + 0.014*\"therapi\" + 0.014*\"bone\" + 0.012*\"cf\" + 0.011*\"oi\"'),\n",
       " (4,\n",
       "  '0.070*\"breast_cancer\" + 0.043*\"tripl_neg\" + 0.040*\"cancer\" + 0.036*\"breast\" + 0.024*\"neg\" + 0.024*\"tnbc\" + 0.022*\"tripl\" + 0.018*\"cell\" + 0.015*\"tumor\" + 0.013*\"receptor\"'),\n",
       " (5,\n",
       "  '0.029*\"fibrosi\" + 0.028*\"cystic_fibrosi\" + 0.028*\"cystic\" + 0.019*\"smn\" + 0.013*\"genet\" + 0.012*\"develop\" + 0.011*\"exon\" + 0.010*\"hnrnp\" + 0.010*\"surviv\" + 0.010*\"stage\"')]"
      ]
     },
     "execution_count": 883,
     "metadata": {},
     "output_type": "execute_result"
    }
   ],
   "source": [
    "lda.show_topics()"
   ]
  },
  {
   "cell_type": "code",
   "execution_count": 884,
   "metadata": {},
   "outputs": [],
   "source": [
    "dtm = np.array([\n",
    "    [dict(lda.get_document_topics(v)).get(topic, 0.0) for topic in range(n_topics)]\n",
    "    for v in vectors\n",
    "])"
   ]
  },
  {
   "cell_type": "code",
   "execution_count": 885,
   "metadata": {},
   "outputs": [
    {
     "data": {
      "image/png": "[encoded data removed]",
      "text/plain": [
       "<Figure size 720x2016 with 2 Axes>"
      ]
     },
     "metadata": {},
     "output_type": "display_data"
    }
   ],
   "source": [
    "fig, ax = plt.subplots(figsize=(10,28))\n",
    "ax = sns.heatmap(dtm, vmin=0, vmax=1, ax=ax, yticklabels=labeled_set.topic)"
   ]
  },
  {
   "cell_type": "markdown",
   "metadata": {},
   "source": [
    "## Coherence measure"
   ]
  },
  {
   "cell_type": "code",
   "execution_count": 886,
   "metadata": {},
   "outputs": [
    {
     "name": "stdout",
     "output_type": "stream",
     "text": [
      "\n",
      "Coherence Score:  0.42666189035431556\n"
     ]
    }
   ],
   "source": [
    "coherence_model_lda = CoherenceModel(model=lda,\n",
    "                                     texts=texts,\n",
    "                                     dictionary=dictionary,\n",
    "                                     coherence='c_v')\n",
    "coherence_lda = coherence_model_lda.get_coherence()\n",
    "print('\\nCoherence Score: ', coherence_lda)"
   ]
  },
  {
   "cell_type": "code",
   "execution_count": null,
   "metadata": {},
   "outputs": [],
   "source": []
  },
  {
   "cell_type": "markdown",
   "metadata": {},
   "source": [
    "## Parameter sweep"
   ]
  },
  {
   "cell_type": "code",
   "execution_count": 929,
   "metadata": {},
   "outputs": [],
   "source": [
    "texts = [preprocess_string(a.title + ' ' + a.abstract, filters=filters) for a in articles]\n",
    "tfc = Counter(w for t in texts for w in t)"
   ]
  },
  {
   "cell_type": "code",
   "execution_count": 933,
   "metadata": {},
   "outputs": [],
   "source": [
    "def fit_with_params(min_occur, iterations, passes, texts, tfc):\n",
    "\n",
    "    bigrams = models.Phrases(texts, min_count=3)\n",
    "    trigrams = models.Phrases(bigrams[texts], min_count=3)\n",
    "\n",
    "    texts = [[w for w in t if (len(w)>1 and tfc[w]>min_occur)] for t in texts]\n",
    "\n",
    "    texts = [text + [x for x in bigrams[text] if '_' in x]\n",
    "                  + [x for x in trigrams[text] if '_' in x]\n",
    "             for text in texts]\n",
    "\n",
    "    dictionary = corpora.Dictionary(texts)\n",
    "    bows = [dictionary.doc2bow(text) for text in texts]\n",
    "\n",
    "    n_topics = 6\n",
    "    lda = LdaModel(bows, id2word=dictionary, num_topics=n_topics,\n",
    "                   alpha='auto', eta='auto',\n",
    "                   iterations=iterations,\n",
    "                   passes=passes,\n",
    "                   eval_every=1)\n",
    "\n",
    "    coherence_model_lda = CoherenceModel(model=lda,\n",
    "                                     texts=texts,\n",
    "                                     dictionary=dictionary,\n",
    "                                     coherence='c_v')\n",
    "    return lda, coherence_model_lda.get_coherence()"
   ]
  },
  {
   "cell_type": "code",
   "execution_count": 897,
   "metadata": {},
   "outputs": [
    {
     "data": {
      "text/plain": [
       "[(1, 20, 100, 0.444718990425453),\n",
       " (1, 20, 100, 0.4972860461941318),\n",
       " (1, 20, 100, 0.42844851763009717),\n",
       " (1, 20, 200, 0.5268520125799199),\n",
       " (1, 20, 200, 0.45258293040939196),\n",
       " (1, 20, 200, 0.5553271990474004),\n",
       " (1, 20, 500, 0.5561260527328787),\n",
       " (1, 20, 500, 0.5210437967529039),\n",
       " (1, 20, 500, 0.5867538928881323),\n",
       " (1, 20, 1000, 0.5465537226087677),\n",
       " (1, 20, 1000, 0.5625521310134749),\n",
       " (1, 20, 1000, 0.5487097928763908),\n",
       " (1, 20, 1500, 0.5804820215258338),\n",
       " (1, 20, 1500, 0.5281251078932819),\n",
       " (1, 20, 1500, 0.551892895355298),\n",
       " (1, 20, 2000, 0.5418355311536075),\n",
       " (1, 20, 2000, 0.5737940649598842),\n",
       " (1, 20, 2000, 0.535933063588935),\n",
       " (1, 100, 100, 0.5304695413551856),\n",
       " (1, 100, 100, 0.4326433617212076),\n",
       " (1, 100, 100, 0.5554006288538174),\n",
       " (1, 100, 200, 0.5685265327084345),\n",
       " (1, 100, 200, 0.5135455160717797),\n",
       " (1, 100, 200, 0.46634868388095296),\n",
       " (1, 100, 500, 0.5568912790809403),\n",
       " (1, 100, 500, 0.567875120219462),\n",
       " (1, 100, 500, 0.5264414354424876),\n",
       " (1, 100, 1000, 0.549821218969095),\n",
       " (1, 100, 1000, 0.5366384349900769),\n",
       " (1, 100, 1000, 0.5250155430723779),\n",
       " (1, 100, 1500, 0.5753478815580303),\n",
       " (1, 100, 1500, 0.5469262836719876),\n",
       " (1, 100, 1500, 0.47206172186008827),\n",
       " (1, 100, 2000, 0.4906032092696206),\n",
       " (1, 100, 2000, 0.5043660311916284),\n",
       " (1, 100, 2000, 0.5471221067857459),\n",
       " (1, 200, 100, 0.5338592090314737),\n",
       " (1, 200, 100, 0.5373709840479807),\n",
       " (1, 200, 100, 0.5386966877279955),\n",
       " (1, 200, 200, 0.49867326557007935),\n",
       " (1, 200, 200, 0.5231383687395185),\n",
       " (1, 200, 200, 0.5657574391670814),\n",
       " (1, 200, 500, 0.44795699946725076),\n",
       " (1, 200, 500, 0.5638414554161842),\n",
       " (1, 200, 500, 0.5731138587802214),\n",
       " (1, 200, 1000, 0.4874611397976516),\n",
       " (1, 200, 1000, 0.5420381127494305),\n",
       " (1, 200, 1000, 0.5363717453687723),\n",
       " (1, 200, 1500, 0.5537807402539475),\n",
       " (1, 200, 1500, 0.5371883863705025),\n",
       " (1, 200, 1500, 0.4860491317212252),\n",
       " (1, 200, 2000, 0.4611573856872045),\n",
       " (1, 200, 2000, 0.5506075437500986),\n",
       " (1, 200, 2000, 0.5786357878865912),\n",
       " (1, 400, 100, 0.5375830347288549),\n",
       " (1, 400, 100, 0.5516826344130449),\n",
       " (1, 400, 100, 0.5324289063522519),\n",
       " (1, 400, 200, 0.5683790608678642),\n",
       " (1, 400, 200, 0.49875645653171435),\n",
       " (1, 400, 200, 0.5276475605843359),\n",
       " (1, 400, 500, 0.5783681620047307),\n",
       " (1, 400, 500, 0.43556308300397745),\n",
       " (1, 400, 500, 0.522777316688806),\n",
       " (1, 400, 1000, 0.5604355939673299),\n",
       " (1, 400, 1000, 0.5229491196548235),\n",
       " (1, 400, 1000, 0.5595171355405522),\n",
       " (1, 400, 1500, 0.507499004951169),\n",
       " (1, 400, 1500, 0.5471315211104102),\n",
       " (1, 400, 1500, 0.5303610849210095),\n",
       " (1, 400, 2000, 0.39379997095342284),\n",
       " (1, 400, 2000, 0.4121097165117337),\n",
       " (1, 400, 2000, 0.5486315138646477),\n",
       " (2, 20, 100, 0.5777136485641367),\n",
       " (2, 20, 100, 0.5279544359879881),\n",
       " (2, 20, 100, 0.5595326413651079),\n",
       " (2, 20, 200, 0.506202210762035),\n",
       " (2, 20, 200, 0.557650935554869),\n",
       " (2, 20, 200, 0.5533540614787774),\n",
       " (2, 20, 500, 0.3969682636484757),\n",
       " (2, 20, 500, 0.49613692034747786),\n",
       " (2, 20, 500, 0.4947231135220531),\n",
       " (2, 20, 1000, 0.443290023958411),\n",
       " (2, 20, 1000, 0.5475321635593983),\n",
       " (2, 20, 1000, 0.4831615391574515),\n",
       " (2, 20, 1500, 0.5329844422688957),\n",
       " (2, 20, 1500, 0.5514940181071795),\n",
       " (2, 20, 1500, 0.524570886551249),\n",
       " (2, 20, 2000, 0.5404877260685379),\n",
       " (2, 20, 2000, 0.5595350557011515),\n",
       " (2, 20, 2000, 0.522306141200995),\n",
       " (2, 100, 100, 0.4676817480213169),\n",
       " (2, 100, 100, 0.501707110909384),\n",
       " (2, 100, 100, 0.5628491707846351),\n",
       " (2, 100, 200, 0.5394669237821884),\n",
       " (2, 100, 200, 0.5319244301900401),\n",
       " (2, 100, 200, 0.4077389952871083),\n",
       " (2, 100, 500, 0.43400468508383755),\n",
       " (2, 100, 500, 0.5713691793868618),\n",
       " (2, 100, 500, 0.5390779586668967),\n",
       " (2, 100, 1000, 0.5089331233454182),\n",
       " (2, 100, 1000, 0.49322815497666866),\n",
       " (2, 100, 1000, 0.5694914764126572),\n",
       " (2, 100, 1500, 0.4792569669471738),\n",
       " (2, 100, 1500, 0.5312558349122879),\n",
       " (2, 100, 1500, 0.5067392328179187),\n",
       " (2, 100, 2000, 0.5449681924777853),\n",
       " (2, 100, 2000, 0.4899775129833632),\n",
       " (2, 100, 2000, 0.534061695602684),\n",
       " (2, 200, 100, 0.519275904547403),\n",
       " (2, 200, 100, 0.5017332795306357),\n",
       " (2, 200, 100, 0.5237950886468786),\n",
       " (2, 200, 200, 0.4321434058525769),\n",
       " (2, 200, 200, 0.5251764523054822),\n",
       " (2, 200, 200, 0.5528171591460449),\n",
       " (2, 200, 500, 0.5592867936486863),\n",
       " (2, 200, 500, 0.5207642392875552),\n",
       " (2, 200, 500, 0.5023957655064225),\n",
       " (2, 200, 1000, 0.4205238199834432),\n",
       " (2, 200, 1000, 0.5085460957621927),\n",
       " (2, 200, 1000, 0.5694354171780993),\n",
       " (2, 200, 1500, 0.49225551903886644),\n",
       " (2, 200, 1500, 0.5757055163829884),\n",
       " (2, 200, 1500, 0.3646990414300082),\n",
       " (2, 200, 2000, 0.5191661657486771),\n",
       " (2, 200, 2000, 0.5401402299774744),\n",
       " (2, 200, 2000, 0.566891354533457),\n",
       " (2, 400, 100, 0.5403768004211666),\n",
       " (2, 400, 100, 0.5397140111514184),\n",
       " (2, 400, 100, 0.5027984936480411),\n",
       " (2, 400, 200, 0.5791412653874435),\n",
       " (2, 400, 200, 0.4456997304547374),\n",
       " (2, 400, 200, 0.46372895919373774),\n",
       " (2, 400, 500, 0.5182321147268258),\n",
       " (2, 400, 500, 0.5648404816805286),\n",
       " (2, 400, 500, 0.5627312721592745),\n",
       " (2, 400, 1000, 0.5503974974688514),\n",
       " (2, 400, 1000, 0.46338615039504405),\n",
       " (2, 400, 1000, 0.4310240243928576),\n",
       " (2, 400, 1500, 0.4919209428134342),\n",
       " (2, 400, 1500, 0.4719582538606936),\n",
       " (2, 400, 1500, 0.5373166134777595),\n",
       " (2, 400, 2000, 0.5292462900413363),\n",
       " (2, 400, 2000, 0.5220331079748329),\n",
       " (2, 400, 2000, 0.42169854511559435),\n",
       " (3, 20, 100, 0.44879395738988465),\n",
       " (3, 20, 100, 0.5633238275776843),\n",
       " (3, 20, 100, 0.531848270664938),\n",
       " (3, 20, 200, 0.5370915822942783),\n",
       " (3, 20, 200, 0.4704309908386553),\n",
       " (3, 20, 200, 0.46662945240739595),\n",
       " (3, 20, 500, 0.5502195518299359),\n",
       " (3, 20, 500, 0.5015152812853428),\n",
       " (3, 20, 500, 0.5390925093300615),\n",
       " (3, 20, 1000, 0.5286850589471409),\n",
       " (3, 20, 1000, 0.5771741591937872),\n",
       " (3, 20, 1000, 0.5243472287157798),\n",
       " (3, 20, 1500, 0.5269560015818032),\n",
       " (3, 20, 1500, 0.5276649652434747),\n",
       " (3, 20, 1500, 0.5417575669322866),\n",
       " (3, 20, 2000, 0.5546595257801153),\n",
       " (3, 20, 2000, 0.5236968248854186),\n",
       " (3, 20, 2000, 0.5227041849740334),\n",
       " (3, 100, 100, 0.5487632130757832),\n",
       " (3, 100, 100, 0.564610376479482),\n",
       " (3, 100, 100, 0.481815503358863),\n",
       " (3, 100, 200, 0.5114912417880353),\n",
       " (3, 100, 200, 0.5210124211648809),\n",
       " (3, 100, 200, 0.5762788160011859),\n",
       " (3, 100, 500, 0.5066709205198172),\n",
       " (3, 100, 500, 0.50980516588236),\n",
       " (3, 100, 500, 0.4292986261361649),\n",
       " (3, 100, 1000, 0.5258219526370407),\n",
       " (3, 100, 1000, 0.5505062151115738),\n",
       " (3, 100, 1000, 0.536863045544257),\n",
       " (3, 100, 1500, 0.5514003460835794),\n",
       " (3, 100, 1500, 0.5612328499702405),\n",
       " (3, 100, 1500, 0.5059098541591767),\n",
       " (3, 100, 2000, 0.5700792048768871),\n",
       " (3, 100, 2000, 0.5515787239785658),\n",
       " (3, 100, 2000, 0.43636830086327993),\n",
       " (3, 200, 100, 0.5160810931583947),\n",
       " (3, 200, 100, 0.45027263712227605),\n",
       " (3, 200, 100, 0.5429319579946909),\n",
       " (3, 200, 200, 0.5847969957783937),\n",
       " (3, 200, 200, 0.4928901529101779),\n",
       " (3, 200, 200, 0.5575411473273393),\n",
       " (3, 200, 500, 0.4241883677797241),\n",
       " (3, 200, 500, 0.4993153742599317),\n",
       " (3, 200, 500, 0.5559134130844939),\n",
       " (3, 200, 1000, 0.4614523856031931),\n",
       " (3, 200, 1000, 0.5437175330179018),\n",
       " (3, 200, 1000, 0.527733034091658),\n",
       " (3, 200, 1500, 0.5129374960327434),\n",
       " (3, 200, 1500, 0.4390792566373439),\n",
       " (3, 200, 1500, 0.4159493739616542),\n",
       " (3, 200, 2000, 0.514249363083248),\n",
       " (3, 200, 2000, 0.5205800309389442),\n",
       " (3, 200, 2000, 0.5642065826746178),\n",
       " (3, 400, 100, 0.5090579366192644),\n",
       " (3, 400, 100, 0.5667976314467973),\n",
       " (3, 400, 100, 0.4430509942969538),\n",
       " (3, 400, 200, 0.558047691513177),\n",
       " (3, 400, 200, 0.5100902613949294),\n",
       " (3, 400, 200, 0.5089783023742126),\n",
       " (3, 400, 500, 0.5191083061278728),\n",
       " (3, 400, 500, 0.509918558556225),\n",
       " (3, 400, 500, 0.4842705959403674),\n",
       " (3, 400, 1000, 0.4658312488185002),\n",
       " (3, 400, 1000, 0.5754072180940508),\n",
       " (3, 400, 1000, 0.5781033166418846),\n",
       " (3, 400, 1500, 0.5401444179856497),\n",
       " (3, 400, 1500, 0.44612250385748015),\n",
       " (3, 400, 1500, 0.5398238676307773),\n",
       " (3, 400, 2000, 0.5665093716294471),\n",
       " (3, 400, 2000, 0.5324296702438486),\n",
       " (3, 400, 2000, 0.4578759453693775),\n",
       " (7, 20, 100, 0.5366253657367114),\n",
       " (7, 20, 100, 0.5450415256242411),\n",
       " (7, 20, 100, 0.5748692066087492),\n",
       " (7, 20, 200, 0.5365784251504827),\n",
       " (7, 20, 200, 0.5969464779045442),\n",
       " (7, 20, 200, 0.6142698790686838),\n",
       " (7, 20, 500, 0.4963872583520537),\n",
       " (7, 20, 500, 0.65195265907018),\n",
       " (7, 20, 500, 0.5430789757155893),\n",
       " (7, 20, 1000, 0.5664539824849589),\n",
       " (7, 20, 1000, 0.6686903130925373),\n",
       " (7, 20, 1000, 0.5687804932070665),\n",
       " (7, 20, 1500, 0.5701874498487665),\n",
       " (7, 20, 1500, 0.5983369642103507),\n",
       " (7, 20, 1500, 0.6404479271220811),\n",
       " (7, 20, 2000, 0.5865239302199905),\n",
       " (7, 20, 2000, 0.5845975265204866),\n",
       " (7, 20, 2000, 0.5721116103619616),\n",
       " (7, 100, 100, 0.5465060738473825),\n",
       " (7, 100, 100, 0.44998275938858495),\n",
       " (7, 100, 100, 0.5962955811133281),\n",
       " (7, 100, 200, 0.46811633394802543),\n",
       " (7, 100, 200, 0.5393691217480182),\n",
       " (7, 100, 200, 0.5417787322628237),\n",
       " (7, 100, 500, 0.5835490767781294),\n",
       " (7, 100, 500, 0.5708687115985339),\n",
       " (7, 100, 500, 0.5461513883125443),\n",
       " (7, 100, 1000, 0.45389128140824125),\n",
       " (7, 100, 1000, 0.5694262786263934),\n",
       " (7, 100, 1000, 0.48004066281013463),\n",
       " (7, 100, 1500, 0.5675986732302476),\n",
       " (7, 100, 1500, 0.6698348222915449),\n",
       " (7, 100, 1500, 0.6075799487310919),\n",
       " (7, 100, 2000, 0.5307441076081441),\n",
       " (7, 100, 2000, 0.5350099999970505),\n",
       " (7, 100, 2000, 0.557576000304672),\n",
       " (7, 200, 100, 0.5262012768884291),\n",
       " (7, 200, 100, 0.5273455362505959),\n",
       " (7, 200, 100, 0.5565760183232933),\n",
       " (7, 200, 200, 0.5681689206443193),\n",
       " (7, 200, 200, 0.5651335424799585),\n",
       " (7, 200, 200, 0.5097628206032728),\n",
       " (7, 200, 500, 0.6015922520380651),\n",
       " (7, 200, 500, 0.5732186532176007),\n",
       " (7, 200, 500, 0.6336386316747796),\n",
       " (7, 200, 1000, 0.5471674653678521),\n",
       " (7, 200, 1000, 0.6098065911890157),\n",
       " (7, 200, 1000, 0.5208637153128959),\n",
       " (7, 200, 1500, 0.6525137049943343),\n",
       " (7, 200, 1500, 0.47994937799248877),\n",
       " (7, 200, 1500, 0.5314140368297244),\n",
       " (7, 200, 2000, 0.48517892676648894),\n",
       " (7, 200, 2000, 0.5395337128698069),\n",
       " (7, 200, 2000, 0.4806305794013858),\n",
       " (7, 400, 100, 0.6039918350357971),\n",
       " (7, 400, 100, 0.5329539783424674),\n",
       " (7, 400, 100, 0.5812909289667326),\n",
       " (7, 400, 200, 0.531102140936714),\n",
       " (7, 400, 200, 0.5725526917598968),\n",
       " (7, 400, 200, 0.48352187167899646),\n",
       " (7, 400, 500, 0.5836211265071859),\n",
       " (7, 400, 500, 0.5344289705716496),\n",
       " (7, 400, 500, 0.5592187112081539),\n",
       " (7, 400, 1000, 0.5538402909072094),\n",
       " (7, 400, 1000, 0.5582169964872773),\n",
       " (7, 400, 1000, 0.586391292749706),\n",
       " (7, 400, 1500, 0.5126035215327583),\n",
       " (7, 400, 1500, 0.6215939773166689),\n",
       " (7, 400, 1500, 0.5468779014860158),\n",
       " (7, 400, 2000, 0.48162639090907144),\n",
       " (7, 400, 2000, 0.5884214853734919),\n",
       " (7, 400, 2000, 0.542019149724496),\n",
       " (10, 20, 100, 0.610084033849655),\n",
       " (10, 20, 100, 0.7206354551182986),\n",
       " (10, 20, 100, 0.6626292012794963),\n",
       " (10, 20, 200, 0.6576595607826384),\n",
       " (10, 20, 200, 0.6028855180934003),\n",
       " (10, 20, 200, 0.6219417099106597),\n",
       " (10, 20, 500, 0.6112146866484016),\n",
       " (10, 20, 500, 0.6134021850166315),\n",
       " (10, 20, 500, 0.6384353844649645),\n",
       " (10, 20, 1000, 0.6423900097413882),\n",
       " (10, 20, 1000, 0.5999140334066723),\n",
       " (10, 20, 1000, 0.5765299742039621),\n",
       " (10, 20, 1500, 0.5916664541148169),\n",
       " (10, 20, 1500, 0.670263418979481),\n",
       " (10, 20, 1500, 0.6053918029958699),\n",
       " (10, 20, 2000, 0.6199081144494786),\n",
       " (10, 20, 2000, 0.6227556636811044),\n",
       " (10, 20, 2000, 0.6300552010745768),\n",
       " (10, 100, 100, 0.5932157193392901),\n",
       " (10, 100, 100, 0.5886324807911395),\n",
       " (10, 100, 100, 0.500350738858914),\n",
       " (10, 100, 200, 0.5101736994707361),\n",
       " (10, 100, 200, 0.6601246298254099),\n",
       " (10, 100, 200, 0.6156963968852707),\n",
       " (10, 100, 500, 0.539911373989666),\n",
       " (10, 100, 500, 0.6053414691513715),\n",
       " (10, 100, 500, 0.5952148442335027),\n",
       " (10, 100, 1000, 0.5763639467487814),\n",
       " (10, 100, 1000, 0.6244371439199359),\n",
       " (10, 100, 1000, 0.5767651603276751),\n",
       " (10, 100, 1500, 0.6443369121458706),\n",
       " (10, 100, 1500, 0.5898094876956702),\n",
       " (10, 100, 1500, 0.5957523138521715),\n",
       " (10, 100, 2000, 0.6375180584396549),\n",
       " (10, 100, 2000, 0.5840709509436319),\n",
       " (10, 100, 2000, 0.5965599414054917),\n",
       " (10, 200, 100, 0.5394996245927318),\n",
       " (10, 200, 100, 0.563533994302179),\n",
       " (10, 200, 100, 0.6192792497935367),\n",
       " (10, 200, 200, 0.641629563759888),\n",
       " (10, 200, 200, 0.5762101474876236),\n",
       " (10, 200, 200, 0.5859996937206474),\n",
       " (10, 200, 500, 0.6204539881661449),\n",
       " (10, 200, 500, 0.6313740522815419),\n",
       " (10, 200, 500, 0.6224804268152799),\n",
       " (10, 200, 1000, 0.5808065784188305),\n",
       " (10, 200, 1000, 0.6277268671889752),\n",
       " (10, 200, 1000, 0.6058813667399997),\n",
       " (10, 200, 1500, 0.6214124189599993),\n",
       " (10, 200, 1500, 0.5624442261633483),\n",
       " (10, 200, 1500, 0.6156352417487332),\n",
       " (10, 200, 2000, 0.635130605234684),\n",
       " (10, 200, 2000, 0.5396546678739137),\n",
       " (10, 200, 2000, 0.5410988719891239),\n",
       " (10, 400, 100, 0.6229071159605696),\n",
       " (10, 400, 100, 0.5973949070325527),\n",
       " (10, 400, 100, 0.4958654748636506),\n",
       " (10, 400, 200, 0.6337681711854438),\n",
       " (10, 400, 200, 0.518174939271633),\n",
       " (10, 400, 200, 0.5366038266353104),\n",
       " (10, 400, 500, 0.6704731631899579),\n",
       " (10, 400, 500, 0.5899237883379497),\n",
       " (10, 400, 500, 0.5599239964242418),\n",
       " (10, 400, 1000, 0.5727677149085585),\n",
       " (10, 400, 1000, 0.5775320441797985),\n",
       " (10, 400, 1000, 0.4718671812402729),\n",
       " (10, 400, 1500, 0.5417544403485687),\n",
       " (10, 400, 1500, 0.6387138661782396),\n",
       " (10, 400, 1500, 0.6063759089932325),\n",
       " (10, 400, 2000, 0.6071519000665598),\n",
       " (10, 400, 2000, 0.5690264449388981),\n",
       " (10, 400, 2000, 0.6156932415981323),\n",
       " (17, 20, 100, 0.6116677119441601),\n",
       " (17, 20, 100, 0.5801383053759039),\n",
       " (17, 20, 100, 0.5834574270573697),\n",
       " (17, 20, 200, 0.6366693513387823),\n",
       " (17, 20, 200, 0.6161752232044556),\n",
       " (17, 20, 200, 0.6173978930883589),\n",
       " (17, 20, 500, 0.6220808996660172),\n",
       " (17, 20, 500, 0.589208196755251),\n",
       " (17, 20, 500, 0.6858982406975412),\n",
       " (17, 20, 1000, 0.6292502090156009),\n",
       " (17, 20, 1000, 0.6681951508648836),\n",
       " (17, 20, 1000, 0.6253704627659181),\n",
       " (17, 20, 1500, 0.6134358133819069),\n",
       " (17, 20, 1500, 0.6037364778460833),\n",
       " (17, 20, 1500, 0.6621487866322814),\n",
       " (17, 20, 2000, 0.6014828363452641),\n",
       " (17, 20, 2000, 0.5761727270796754),\n",
       " (17, 20, 2000, 0.5843520290125062),\n",
       " (17, 100, 100, 0.6317713817350327),\n",
       " (17, 100, 100, 0.5844945297015987),\n",
       " (17, 100, 100, 0.606057993539121),\n",
       " (17, 100, 200, 0.6383781656893553),\n",
       " (17, 100, 200, 0.6205166001921386),\n",
       " (17, 100, 200, 0.5994526356789623),\n",
       " (17, 100, 500, 0.5305710521718384),\n",
       " (17, 100, 500, 0.6212322253314365),\n",
       " (17, 100, 500, 0.624111488723857),\n",
       " (17, 100, 1000, 0.48911699572595474),\n",
       " (17, 100, 1000, 0.6583333802153364),\n",
       " (17, 100, 1000, 0.593027621715401),\n",
       " (17, 100, 1500, 0.6022649387081725),\n",
       " (17, 100, 1500, 0.566444284438886),\n",
       " (17, 100, 1500, 0.6324980579530477),\n",
       " (17, 100, 2000, 0.5605720792706738),\n",
       " (17, 100, 2000, 0.6030085716156871),\n",
       " (17, 100, 2000, 0.6294541451642064),\n",
       " (17, 200, 100, 0.6237095649069369),\n",
       " (17, 200, 100, 0.5689181840456676),\n",
       " (17, 200, 100, 0.5756500735230826),\n",
       " (17, 200, 200, 0.5884697119471382),\n",
       " (17, 200, 200, 0.6319088311089425),\n",
       " (17, 200, 200, 0.4805390804802591),\n",
       " (17, 200, 500, 0.6354651199798849),\n",
       " (17, 200, 500, 0.6451531954942009),\n",
       " (17, 200, 500, 0.5984004827766144),\n",
       " (17, 200, 1000, 0.5795486094579644),\n",
       " (17, 200, 1000, 0.5663496432360233),\n",
       " (17, 200, 1000, 0.5852806758002908),\n",
       " (17, 200, 1500, 0.5631956884324388),\n",
       " (17, 200, 1500, 0.5889918733091257),\n",
       " (17, 200, 1500, 0.563367141624067),\n",
       " (17, 200, 2000, 0.5601739131573842),\n",
       " (17, 200, 2000, 0.5999464168827601),\n",
       " (17, 200, 2000, 0.5730081645883559),\n",
       " (17, 400, 100, 0.6315038749200026),\n",
       " (17, 400, 100, 0.5756753085984373),\n",
       " (17, 400, 100, 0.5247765939348381),\n",
       " (17, 400, 200, 0.6363083587290154),\n",
       " (17, 400, 200, 0.584463338091508),\n",
       " (17, 400, 200, 0.6004577202332194),\n",
       " (17, 400, 500, 0.5668256426050319),\n",
       " (17, 400, 500, 0.6113736935663482),\n",
       " (17, 400, 500, 0.5512646585852674),\n",
       " (17, 400, 1000, 0.5348871963926961),\n",
       " (17, 400, 1000, 0.6234287152213077),\n",
       " (17, 400, 1000, 0.6090409154621423),\n",
       " (17, 400, 1500, 0.6312494387321251),\n",
       " (17, 400, 1500, 0.48140590410295053),\n",
       " (17, 400, 1500, 0.5745013985859321),\n",
       " (17, 400, 2000, 0.6066160160140082),\n",
       " (17, 400, 2000, 0.5548383845743651),\n",
       " (17, 400, 2000, 0.6211251726504763)]"
      ]
     },
     "execution_count": 897,
     "metadata": {},
     "output_type": "execute_result"
    }
   ],
   "source": [
    "[(min_occur, iterations, passes, fit_with_params(min_occur, iterations, passes))\n",
    "    for min_occur in [1,2,3,7,10,17]\n",
    "        for iterations in [20, 100, 200, 400]\n",
    "            for passes in [100, 200, 500, 1000, 1500, 2000]\n",
    "                for rep in range(3)]"
   ]
  },
  {
   "cell_type": "code",
   "execution_count": 900,
   "metadata": {},
   "outputs": [],
   "source": [
    "a = _897"
   ]
  },
  {
   "cell_type": "code",
   "execution_count": 906,
   "metadata": {},
   "outputs": [
    {
     "data": {
      "text/plain": [
       "(432, 4)"
      ]
     },
     "execution_count": 906,
     "metadata": {},
     "output_type": "execute_result"
    }
   ],
   "source": [
    "coh = pd.DataFrame(a, columns=['min-occur', 'iterations', 'passes', 'coherence'])\n",
    "coh.shape"
   ]
  },
  {
   "cell_type": "code",
   "execution_count": 912,
   "metadata": {},
   "outputs": [
    {
     "data": {
      "text/html": [
       "<div>\n",
       "<style scoped>\n",
       "    .dataframe tbody tr th:only-of-type {\n",
       "        vertical-align: middle;\n",
       "    }\n",
       "\n",
       "    .dataframe tbody tr th {\n",
       "        vertical-align: top;\n",
       "    }\n",
       "\n",
       "    .dataframe thead th {\n",
       "        text-align: right;\n",
       "    }\n",
       "</style>\n",
       "<table border=\"1\" class=\"dataframe\">\n",
       "  <thead>\n",
       "    <tr style=\"text-align: right;\">\n",
       "      <th></th>\n",
       "      <th>min-occur</th>\n",
       "      <th>iterations</th>\n",
       "      <th>passes</th>\n",
       "      <th>coherence</th>\n",
       "    </tr>\n",
       "  </thead>\n",
       "  <tbody>\n",
       "    <tr>\n",
       "      <th>0</th>\n",
       "      <td>1</td>\n",
       "      <td>20</td>\n",
       "      <td>100</td>\n",
       "      <td>0.444719</td>\n",
       "    </tr>\n",
       "    <tr>\n",
       "      <th>1</th>\n",
       "      <td>1</td>\n",
       "      <td>20</td>\n",
       "      <td>100</td>\n",
       "      <td>0.497286</td>\n",
       "    </tr>\n",
       "    <tr>\n",
       "      <th>2</th>\n",
       "      <td>1</td>\n",
       "      <td>20</td>\n",
       "      <td>100</td>\n",
       "      <td>0.428449</td>\n",
       "    </tr>\n",
       "    <tr>\n",
       "      <th>3</th>\n",
       "      <td>1</td>\n",
       "      <td>20</td>\n",
       "      <td>200</td>\n",
       "      <td>0.526852</td>\n",
       "    </tr>\n",
       "    <tr>\n",
       "      <th>4</th>\n",
       "      <td>1</td>\n",
       "      <td>20</td>\n",
       "      <td>200</td>\n",
       "      <td>0.452583</td>\n",
       "    </tr>\n",
       "  </tbody>\n",
       "</table>\n",
       "</div>"
      ],
      "text/plain": [
       "   min-occur  iterations  passes  coherence\n",
       "0          1          20     100   0.444719\n",
       "1          1          20     100   0.497286\n",
       "2          1          20     100   0.428449\n",
       "3          1          20     200   0.526852\n",
       "4          1          20     200   0.452583"
      ]
     },
     "execution_count": 912,
     "metadata": {},
     "output_type": "execute_result"
    }
   ],
   "source": [
    "coh.head()"
   ]
  },
  {
   "cell_type": "code",
   "execution_count": 908,
   "metadata": {},
   "outputs": [
    {
     "data": {
      "image/png": "[encoded data removed]",
      "text/plain": [
       "<Figure size 432x288 with 1 Axes>"
      ]
     },
     "metadata": {},
     "output_type": "display_data"
    }
   ],
   "source": [
    "ax = sns.scatterplot(x=\"passes\", y=\"coherence\", data=coh)"
   ]
  },
  {
   "cell_type": "code",
   "execution_count": 909,
   "metadata": {},
   "outputs": [
    {
     "data": {
      "image/png": "[encoded data removed]",
      "text/plain": [
       "<Figure size 432x288 with 1 Axes>"
      ]
     },
     "metadata": {},
     "output_type": "display_data"
    }
   ],
   "source": [
    "ax = sns.boxplot(x=\"passes\", y=\"coherence\", data=coh)"
   ]
  },
  {
   "cell_type": "code",
   "execution_count": 910,
   "metadata": {},
   "outputs": [
    {
     "data": {
      "image/png": "[encoded data removed]",
      "text/plain": [
       "<Figure size 432x288 with 1 Axes>"
      ]
     },
     "metadata": {},
     "output_type": "display_data"
    }
   ],
   "source": [
    "ax = sns.boxplot(x=\"iterations\", y=\"coherence\", data=coh)"
   ]
  },
  {
   "cell_type": "code",
   "execution_count": 911,
   "metadata": {},
   "outputs": [
    {
     "data": {
      "image/png": "[encoded data removed]",
      "text/plain": [
       "<Figure size 432x288 with 1 Axes>"
      ]
     },
     "metadata": {},
     "output_type": "display_data"
    }
   ],
   "source": [
    "ax = sns.boxplot(x=\"min-occur\", y=\"coherence\", data=coh)"
   ]
  },
  {
   "cell_type": "code",
   "execution_count": 914,
   "metadata": {},
   "outputs": [],
   "source": [
    "from tqdm import tqdm"
   ]
  },
  {
   "cell_type": "code",
   "execution_count": 915,
   "metadata": {},
   "outputs": [
    {
     "data": {
      "text/plain": [
       "360"
      ]
     },
     "execution_count": 915,
     "metadata": {},
     "output_type": "execute_result"
    }
   ],
   "source": [
    "params = [(m,i,p) \n",
    "          for m in [8,12,16,20]\n",
    "              for i in [10,20,30,40,50]\n",
    "                  for p in [100, 200, 400, 500, 600, 800]\n",
    "                     for rep in range(3)]\n",
    "len(params)"
   ]
  },
  {
   "cell_type": "code",
   "execution_count": 916,
   "metadata": {},
   "outputs": [
    {
     "name": "stderr",
     "output_type": "stream",
     "text": [
      "100%|██████████| 360/360 [2:58:24<00:00, 46.00s/it]   \n"
     ]
    }
   ],
   "source": [
    "a2 = [(m, i, p, fit_with_params(min_occur=m, iterations=i, passes=p))\n",
    "        for m,i,p in tqdm(params)]"
   ]
  },
  {
   "cell_type": "code",
   "execution_count": 917,
   "metadata": {},
   "outputs": [
    {
     "data": {
      "text/plain": [
       "(360, 4)"
      ]
     },
     "execution_count": 917,
     "metadata": {},
     "output_type": "execute_result"
    }
   ],
   "source": [
    "coh = pd.DataFrame(a2, columns=['min-occur', 'iterations', 'passes', 'coherence'])\n",
    "coh.shape"
   ]
  },
  {
   "cell_type": "code",
   "execution_count": 918,
   "metadata": {},
   "outputs": [
    {
     "data": {
      "text/html": [
       "<div>\n",
       "<style scoped>\n",
       "    .dataframe tbody tr th:only-of-type {\n",
       "        vertical-align: middle;\n",
       "    }\n",
       "\n",
       "    .dataframe tbody tr th {\n",
       "        vertical-align: top;\n",
       "    }\n",
       "\n",
       "    .dataframe thead th {\n",
       "        text-align: right;\n",
       "    }\n",
       "</style>\n",
       "<table border=\"1\" class=\"dataframe\">\n",
       "  <thead>\n",
       "    <tr style=\"text-align: right;\">\n",
       "      <th></th>\n",
       "      <th>min-occur</th>\n",
       "      <th>iterations</th>\n",
       "      <th>passes</th>\n",
       "      <th>coherence</th>\n",
       "    </tr>\n",
       "  </thead>\n",
       "  <tbody>\n",
       "    <tr>\n",
       "      <th>0</th>\n",
       "      <td>8</td>\n",
       "      <td>10</td>\n",
       "      <td>100</td>\n",
       "      <td>0.647258</td>\n",
       "    </tr>\n",
       "    <tr>\n",
       "      <th>1</th>\n",
       "      <td>8</td>\n",
       "      <td>10</td>\n",
       "      <td>100</td>\n",
       "      <td>0.637566</td>\n",
       "    </tr>\n",
       "    <tr>\n",
       "      <th>2</th>\n",
       "      <td>8</td>\n",
       "      <td>10</td>\n",
       "      <td>100</td>\n",
       "      <td>0.574876</td>\n",
       "    </tr>\n",
       "    <tr>\n",
       "      <th>3</th>\n",
       "      <td>8</td>\n",
       "      <td>10</td>\n",
       "      <td>200</td>\n",
       "      <td>0.612044</td>\n",
       "    </tr>\n",
       "    <tr>\n",
       "      <th>4</th>\n",
       "      <td>8</td>\n",
       "      <td>10</td>\n",
       "      <td>200</td>\n",
       "      <td>0.565133</td>\n",
       "    </tr>\n",
       "  </tbody>\n",
       "</table>\n",
       "</div>"
      ],
      "text/plain": [
       "   min-occur  iterations  passes  coherence\n",
       "0          8          10     100   0.647258\n",
       "1          8          10     100   0.637566\n",
       "2          8          10     100   0.574876\n",
       "3          8          10     200   0.612044\n",
       "4          8          10     200   0.565133"
      ]
     },
     "execution_count": 918,
     "metadata": {},
     "output_type": "execute_result"
    }
   ],
   "source": [
    "coh.head()"
   ]
  },
  {
   "cell_type": "code",
   "execution_count": 919,
   "metadata": {},
   "outputs": [
    {
     "data": {
      "image/png": "[encoded data removed]",
      "text/plain": [
       "<Figure size 432x288 with 1 Axes>"
      ]
     },
     "metadata": {},
     "output_type": "display_data"
    }
   ],
   "source": [
    "ax = sns.boxplot(x=\"passes\", y=\"coherence\", data=coh)"
   ]
  },
  {
   "cell_type": "code",
   "execution_count": 920,
   "metadata": {},
   "outputs": [
    {
     "data": {
      "image/png": "[encoded data removed]",
      "text/plain": [
       "<Figure size 432x288 with 1 Axes>"
      ]
     },
     "metadata": {},
     "output_type": "display_data"
    }
   ],
   "source": [
    "ax = sns.boxplot(x=\"iterations\", y=\"coherence\", data=coh)"
   ]
  },
  {
   "cell_type": "code",
   "execution_count": 921,
   "metadata": {},
   "outputs": [
    {
     "data": {
      "image/png": "[encoded data removed]",
      "text/plain": [
       "<Figure size 432x288 with 1 Axes>"
      ]
     },
     "metadata": {},
     "output_type": "display_data"
    }
   ],
   "source": [
    "ax = sns.boxplot(x=\"min-occur\", y=\"coherence\", data=coh)"
   ]
  },
  {
   "cell_type": "code",
   "execution_count": 934,
   "metadata": {},
   "outputs": [
    {
     "name": "stderr",
     "output_type": "stream",
     "text": [
      "\n",
      "  0%|          | 0/10 [00:00<?, ?it/s]\u001b[A\n",
      " 10%|█         | 1/10 [00:17<02:38, 17.65s/it]\u001b[A\n",
      " 20%|██        | 2/10 [00:34<02:19, 17.48s/it]\u001b[A\n",
      " 30%|███       | 3/10 [00:51<02:00, 17.20s/it]\u001b[A\n",
      " 40%|████      | 4/10 [01:08<01:43, 17.28s/it]\u001b[A\n",
      " 50%|█████     | 5/10 [01:25<01:25, 17.05s/it]\u001b[A\n",
      " 60%|██████    | 6/10 [01:42<01:07, 16.99s/it]\u001b[A\n",
      " 70%|███████   | 7/10 [01:59<00:51, 17.03s/it]\u001b[A\n",
      " 80%|████████  | 8/10 [02:16<00:34, 17.25s/it]\u001b[A\n",
      " 90%|█████████ | 9/10 [02:34<00:17, 17.30s/it]\u001b[A\n",
      "100%|██████████| 10/10 [02:51<00:00, 17.38s/it]\u001b[A"
     ]
    }
   ],
   "source": [
    "m = 16\n",
    "i = 10\n",
    "p = 300\n",
    "a3 = [(m, i, p, fit_with_params(min_occur=m, iterations=i, passes=p, texts=texts, tfc=tfc))\n",
    "        for _ in tqdm(range(10))]"
   ]
  },
  {
   "cell_type": "code",
   "execution_count": 936,
   "metadata": {},
   "outputs": [],
   "source": [
    "max_coh = 0.0\n",
    "a_max = None\n",
    "for a_i in a3:\n",
    "    if a_i[3][1] > max_coh:\n",
    "        a_max = a_i\n",
    "        max_coh = a_i[3][1]"
   ]
  },
  {
   "cell_type": "markdown",
   "metadata": {},
   "source": [
    "## sklearn, tf-idf, k-means"
   ]
  },
  {
   "cell_type": "code",
   "execution_count": 983,
   "metadata": {},
   "outputs": [],
   "source": [
    "from sklearn.feature_extraction.text import TfidfVectorizer\n",
    "from sklearn.cluster import KMeans"
   ]
  },
  {
   "cell_type": "code",
   "execution_count": 965,
   "metadata": {},
   "outputs": [],
   "source": [
    "texts = [a.title + ' ' + a.abstract for a in articles]"
   ]
  },
  {
   "cell_type": "code",
   "execution_count": 1005,
   "metadata": {},
   "outputs": [],
   "source": [
    "vectorizer = TfidfVectorizer(max_df=0.66,\n",
    "                             max_features=1000,\n",
    "                             min_df=2,\n",
    "                             stop_words='english')\n",
    "X = vectorizer.fit_transform(texts)"
   ]
  },
  {
   "cell_type": "code",
   "execution_count": 1006,
   "metadata": {},
   "outputs": [
    {
     "data": {
      "text/plain": [
       "(103, 1000)"
      ]
     },
     "execution_count": 1006,
     "metadata": {},
     "output_type": "execute_result"
    }
   ],
   "source": [
    "X.shape"
   ]
  },
  {
   "cell_type": "code",
   "execution_count": 1011,
   "metadata": {},
   "outputs": [],
   "source": [
    "km = KMeans(n_clusters=6,\n",
    "            init='random',\n",
    "            max_iter=100,\n",
    "            n_init=20,\n",
    "            verbose=True)"
   ]
  },
  {
   "cell_type": "code",
   "execution_count": 1012,
   "metadata": {},
   "outputs": [
    {
     "name": "stdout",
     "output_type": "stream",
     "text": [
      "Initialization complete\n",
      "Iteration  0, inertia 160.848\n",
      "Iteration  1, inertia 81.824\n",
      "Iteration  2, inertia 80.357\n",
      "Iteration  3, inertia 78.548\n",
      "Iteration  4, inertia 77.570\n",
      "Iteration  5, inertia 77.450\n",
      "Iteration  6, inertia 77.327\n",
      "Iteration  7, inertia 77.245\n",
      "Converged at iteration 7: center shift 0.000000e+00 within tolerance 9.206511e-08\n",
      "Initialization complete\n",
      "Iteration  0, inertia 151.149\n",
      "Iteration  1, inertia 77.294\n",
      "Iteration  2, inertia 76.927\n",
      "Iteration  3, inertia 76.725\n",
      "Iteration  4, inertia 76.559\n",
      "Iteration  5, inertia 76.410\n",
      "Iteration  6, inertia 76.273\n",
      "Converged at iteration 6: center shift 0.000000e+00 within tolerance 9.206511e-08\n",
      "Initialization complete\n",
      "Iteration  0, inertia 158.226\n",
      "Iteration  1, inertia 84.266\n",
      "Iteration  2, inertia 83.507\n",
      "Iteration  3, inertia 83.204\n",
      "Converged at iteration 3: center shift 0.000000e+00 within tolerance 9.206511e-08\n",
      "Initialization complete\n",
      "Iteration  0, inertia 147.249\n",
      "Iteration  1, inertia 78.532\n",
      "Iteration  2, inertia 77.677\n",
      "Iteration  3, inertia 76.877\n",
      "Iteration  4, inertia 76.344\n",
      "Iteration  5, inertia 76.189\n",
      "Iteration  6, inertia 75.973\n",
      "Iteration  7, inertia 75.807\n",
      "Converged at iteration 7: center shift 0.000000e+00 within tolerance 9.206511e-08\n",
      "Initialization complete\n",
      "Iteration  0, inertia 155.294\n",
      "Iteration  1, inertia 79.761\n",
      "Iteration  2, inertia 78.867\n",
      "Iteration  3, inertia 78.638\n",
      "Converged at iteration 3: center shift 0.000000e+00 within tolerance 9.206511e-08\n",
      "Initialization complete\n",
      "Iteration  0, inertia 162.023\n",
      "Iteration  1, inertia 84.580\n",
      "Iteration  2, inertia 83.374\n",
      "Iteration  3, inertia 82.991\n",
      "Iteration  4, inertia 82.409\n",
      "Iteration  5, inertia 81.875\n",
      "Iteration  6, inertia 81.571\n",
      "Iteration  7, inertia 81.440\n",
      "Iteration  8, inertia 81.334\n",
      "Converged at iteration 8: center shift 0.000000e+00 within tolerance 9.206511e-08\n",
      "Initialization complete\n",
      "Iteration  0, inertia 157.292\n",
      "Iteration  1, inertia 78.331\n",
      "Iteration  2, inertia 77.246\n",
      "Iteration  3, inertia 77.135\n",
      "Converged at iteration 3: center shift 0.000000e+00 within tolerance 9.206511e-08\n",
      "Initialization complete\n",
      "Iteration  0, inertia 158.580\n",
      "Iteration  1, inertia 83.776\n",
      "Iteration  2, inertia 82.159\n",
      "Iteration  3, inertia 79.807\n",
      "Iteration  4, inertia 79.344\n",
      "Iteration  5, inertia 79.021\n",
      "Iteration  6, inertia 78.917\n",
      "Converged at iteration 6: center shift 0.000000e+00 within tolerance 9.206511e-08\n",
      "Initialization complete\n",
      "Iteration  0, inertia 155.418\n",
      "Iteration  1, inertia 82.166\n",
      "Iteration  2, inertia 81.368\n",
      "Iteration  3, inertia 79.871\n",
      "Iteration  4, inertia 79.313\n",
      "Iteration  5, inertia 78.990\n",
      "Converged at iteration 5: center shift 0.000000e+00 within tolerance 9.206511e-08\n",
      "Initialization complete\n",
      "Iteration  0, inertia 151.496\n",
      "Iteration  1, inertia 82.538\n",
      "Iteration  2, inertia 81.343\n",
      "Iteration  3, inertia 80.407\n",
      "Iteration  4, inertia 79.400\n",
      "Iteration  5, inertia 78.375\n",
      "Iteration  6, inertia 78.161\n",
      "Converged at iteration 6: center shift 0.000000e+00 within tolerance 9.206511e-08\n",
      "Initialization complete\n",
      "Iteration  0, inertia 157.895\n",
      "Iteration  1, inertia 82.416\n",
      "Iteration  2, inertia 80.781\n",
      "Iteration  3, inertia 80.050\n",
      "Iteration  4, inertia 79.919\n",
      "Iteration  5, inertia 79.570\n",
      "Iteration  6, inertia 79.464\n",
      "Converged at iteration 6: center shift 0.000000e+00 within tolerance 9.206511e-08\n",
      "Initialization complete\n",
      "Iteration  0, inertia 160.332\n",
      "Iteration  1, inertia 82.356\n",
      "Iteration  2, inertia 80.865\n",
      "Iteration  3, inertia 80.029\n",
      "Iteration  4, inertia 79.451\n",
      "Iteration  5, inertia 78.240\n",
      "Iteration  6, inertia 77.207\n",
      "Converged at iteration 6: center shift 0.000000e+00 within tolerance 9.206511e-08\n",
      "Initialization complete\n",
      "Iteration  0, inertia 153.784\n",
      "Iteration  1, inertia 77.878\n",
      "Iteration  2, inertia 77.563\n",
      "Iteration  3, inertia 77.452\n",
      "Converged at iteration 3: center shift 0.000000e+00 within tolerance 9.206511e-08\n",
      "Initialization complete\n",
      "Iteration  0, inertia 150.355\n",
      "Iteration  1, inertia 77.692\n",
      "Iteration  2, inertia 77.479\n",
      "Converged at iteration 2: center shift 0.000000e+00 within tolerance 9.206511e-08\n",
      "Initialization complete\n",
      "Iteration  0, inertia 162.457\n",
      "Iteration  1, inertia 83.678\n",
      "Iteration  2, inertia 82.513\n",
      "Converged at iteration 2: center shift 0.000000e+00 within tolerance 9.206511e-08\n",
      "Initialization complete\n",
      "Iteration  0, inertia 157.026\n",
      "Iteration  1, inertia 83.797\n",
      "Iteration  2, inertia 80.962\n",
      "Iteration  3, inertia 79.260\n",
      "Iteration  4, inertia 78.826\n",
      "Converged at iteration 4: center shift 0.000000e+00 within tolerance 9.206511e-08\n",
      "Initialization complete\n",
      "Iteration  0, inertia 164.250\n",
      "Iteration  1, inertia 83.742\n",
      "Iteration  2, inertia 82.100\n",
      "Iteration  3, inertia 81.157\n",
      "Iteration  4, inertia 80.208\n",
      "Iteration  5, inertia 78.932\n",
      "Iteration  6, inertia 78.596\n",
      "Iteration  7, inertia 78.049\n",
      "Iteration  8, inertia 77.402\n",
      "Iteration  9, inertia 76.549\n",
      "Iteration 10, inertia 76.293\n",
      "Converged at iteration 10: center shift 0.000000e+00 within tolerance 9.206511e-08\n",
      "Initialization complete\n",
      "Iteration  0, inertia 162.703\n",
      "Iteration  1, inertia 84.161\n",
      "Iteration  2, inertia 82.519\n",
      "Iteration  3, inertia 80.839\n",
      "Iteration  4, inertia 80.174\n",
      "Iteration  5, inertia 80.041\n",
      "Iteration  6, inertia 79.427\n",
      "Iteration  7, inertia 79.228\n",
      "Iteration  8, inertia 79.134\n",
      "Iteration  9, inertia 79.038\n",
      "Converged at iteration 9: center shift 0.000000e+00 within tolerance 9.206511e-08\n",
      "Initialization complete\n",
      "Iteration  0, inertia 147.589\n",
      "Iteration  1, inertia 78.661\n",
      "Iteration  2, inertia 78.275\n",
      "Iteration  3, inertia 77.613\n",
      "Iteration  4, inertia 77.128\n",
      "Converged at iteration 4: center shift 0.000000e+00 within tolerance 9.206511e-08\n",
      "Initialization complete\n",
      "Iteration  0, inertia 155.247\n",
      "Iteration  1, inertia 81.831\n",
      "Iteration  2, inertia 81.114\n",
      "Iteration  3, inertia 80.964\n",
      "Converged at iteration 3: center shift 0.000000e+00 within tolerance 9.206511e-08\n"
     ]
    },
    {
     "data": {
      "text/plain": [
       "KMeans(algorithm='auto', copy_x=True, init='random', max_iter=100, n_clusters=6,\n",
       "       n_init=20, n_jobs=None, precompute_distances='auto', random_state=None,\n",
       "       tol=0.0001, verbose=True)"
      ]
     },
     "execution_count": 1012,
     "metadata": {},
     "output_type": "execute_result"
    }
   ],
   "source": [
    "km.fit(X)"
   ]
  },
  {
   "cell_type": "code",
   "execution_count": 1013,
   "metadata": {},
   "outputs": [
    {
     "data": {
      "text/plain": [
       "array([0, 0, 0, 0, 0, 0, 0, 0, 0, 0, 0, 0, 0, 0, 0, 0, 0, 0, 0, 0, 0, 0,\n",
       "       0, 5, 5, 5, 5, 5, 5, 5, 5, 5, 1, 1, 1, 1, 1, 1, 1, 1, 1, 1, 1, 1,\n",
       "       1, 1, 1, 1, 2, 2, 2, 2, 2, 2, 2, 2, 2, 2, 2, 2, 2, 2, 2, 2, 2, 2,\n",
       "       2, 2, 2, 2, 2, 2, 2, 2, 2, 2, 2, 2, 2, 2, 3, 3, 3, 3, 3, 3, 4, 4,\n",
       "       4, 4, 4, 4, 4, 4, 4, 4, 4, 4, 4, 4, 4, 4, 4], dtype=int32)"
      ]
     },
     "execution_count": 1013,
     "metadata": {},
     "output_type": "execute_result"
    }
   ],
   "source": [
    "km.labels_"
   ]
  },
  {
   "cell_type": "code",
   "execution_count": 1014,
   "metadata": {},
   "outputs": [
    {
     "data": {
      "text/html": [
       "<div>\n",
       "<style scoped>\n",
       "    .dataframe tbody tr th:only-of-type {\n",
       "        vertical-align: middle;\n",
       "    }\n",
       "\n",
       "    .dataframe tbody tr th {\n",
       "        vertical-align: top;\n",
       "    }\n",
       "\n",
       "    .dataframe thead th {\n",
       "        text-align: right;\n",
       "    }\n",
       "</style>\n",
       "<table border=\"1\" class=\"dataframe\">\n",
       "  <thead>\n",
       "    <tr style=\"text-align: right;\">\n",
       "      <th></th>\n",
       "      <th>true_label</th>\n",
       "      <th>km_label</th>\n",
       "    </tr>\n",
       "  </thead>\n",
       "  <tbody>\n",
       "    <tr>\n",
       "      <th>0</th>\n",
       "      <td>Triple negative breast cancer</td>\n",
       "      <td>0</td>\n",
       "    </tr>\n",
       "    <tr>\n",
       "      <th>1</th>\n",
       "      <td>Triple negative breast cancer</td>\n",
       "      <td>0</td>\n",
       "    </tr>\n",
       "    <tr>\n",
       "      <th>2</th>\n",
       "      <td>Triple negative breast cancer</td>\n",
       "      <td>0</td>\n",
       "    </tr>\n",
       "    <tr>\n",
       "      <th>3</th>\n",
       "      <td>Triple negative breast cancer</td>\n",
       "      <td>0</td>\n",
       "    </tr>\n",
       "    <tr>\n",
       "      <th>4</th>\n",
       "      <td>Triple negative breast cancer</td>\n",
       "      <td>0</td>\n",
       "    </tr>\n",
       "    <tr>\n",
       "      <th>5</th>\n",
       "      <td>Triple negative breast cancer</td>\n",
       "      <td>0</td>\n",
       "    </tr>\n",
       "    <tr>\n",
       "      <th>6</th>\n",
       "      <td>Triple negative breast cancer</td>\n",
       "      <td>0</td>\n",
       "    </tr>\n",
       "    <tr>\n",
       "      <th>7</th>\n",
       "      <td>Triple negative breast cancer</td>\n",
       "      <td>0</td>\n",
       "    </tr>\n",
       "    <tr>\n",
       "      <th>8</th>\n",
       "      <td>Triple negative breast cancer</td>\n",
       "      <td>0</td>\n",
       "    </tr>\n",
       "    <tr>\n",
       "      <th>9</th>\n",
       "      <td>Triple negative breast cancer</td>\n",
       "      <td>0</td>\n",
       "    </tr>\n",
       "    <tr>\n",
       "      <th>10</th>\n",
       "      <td>Triple negative breast cancer</td>\n",
       "      <td>0</td>\n",
       "    </tr>\n",
       "    <tr>\n",
       "      <th>11</th>\n",
       "      <td>Triple negative breast cancer</td>\n",
       "      <td>0</td>\n",
       "    </tr>\n",
       "    <tr>\n",
       "      <th>12</th>\n",
       "      <td>Triple negative breast cancer</td>\n",
       "      <td>0</td>\n",
       "    </tr>\n",
       "    <tr>\n",
       "      <th>13</th>\n",
       "      <td>Triple negative breast cancer</td>\n",
       "      <td>0</td>\n",
       "    </tr>\n",
       "    <tr>\n",
       "      <th>14</th>\n",
       "      <td>Triple negative breast cancer</td>\n",
       "      <td>0</td>\n",
       "    </tr>\n",
       "    <tr>\n",
       "      <th>15</th>\n",
       "      <td>Triple negative breast cancer</td>\n",
       "      <td>0</td>\n",
       "    </tr>\n",
       "    <tr>\n",
       "      <th>16</th>\n",
       "      <td>Triple negative breast cancer</td>\n",
       "      <td>0</td>\n",
       "    </tr>\n",
       "    <tr>\n",
       "      <th>17</th>\n",
       "      <td>Triple negative breast cancer</td>\n",
       "      <td>0</td>\n",
       "    </tr>\n",
       "    <tr>\n",
       "      <th>18</th>\n",
       "      <td>Triple negative breast cancer</td>\n",
       "      <td>0</td>\n",
       "    </tr>\n",
       "    <tr>\n",
       "      <th>19</th>\n",
       "      <td>Triple negative breast cancer</td>\n",
       "      <td>0</td>\n",
       "    </tr>\n",
       "    <tr>\n",
       "      <th>20</th>\n",
       "      <td>Triple negative breast cancer</td>\n",
       "      <td>0</td>\n",
       "    </tr>\n",
       "    <tr>\n",
       "      <th>21</th>\n",
       "      <td>Triple negative breast cancer</td>\n",
       "      <td>0</td>\n",
       "    </tr>\n",
       "    <tr>\n",
       "      <th>22</th>\n",
       "      <td>Triple negative breast cancer</td>\n",
       "      <td>0</td>\n",
       "    </tr>\n",
       "    <tr>\n",
       "      <th>23</th>\n",
       "      <td>Neurofibromatosis</td>\n",
       "      <td>5</td>\n",
       "    </tr>\n",
       "    <tr>\n",
       "      <th>24</th>\n",
       "      <td>Neurofibromatosis</td>\n",
       "      <td>5</td>\n",
       "    </tr>\n",
       "    <tr>\n",
       "      <th>25</th>\n",
       "      <td>Neurofibromatosis</td>\n",
       "      <td>5</td>\n",
       "    </tr>\n",
       "    <tr>\n",
       "      <th>26</th>\n",
       "      <td>Neurofibromatosis</td>\n",
       "      <td>5</td>\n",
       "    </tr>\n",
       "    <tr>\n",
       "      <th>27</th>\n",
       "      <td>Neurofibromatosis</td>\n",
       "      <td>5</td>\n",
       "    </tr>\n",
       "    <tr>\n",
       "      <th>28</th>\n",
       "      <td>Neurofibromatosis</td>\n",
       "      <td>5</td>\n",
       "    </tr>\n",
       "    <tr>\n",
       "      <th>29</th>\n",
       "      <td>Neurofibromatosis</td>\n",
       "      <td>5</td>\n",
       "    </tr>\n",
       "    <tr>\n",
       "      <th>30</th>\n",
       "      <td>Neurofibromatosis</td>\n",
       "      <td>5</td>\n",
       "    </tr>\n",
       "    <tr>\n",
       "      <th>31</th>\n",
       "      <td>Neurofibromatosis</td>\n",
       "      <td>5</td>\n",
       "    </tr>\n",
       "    <tr>\n",
       "      <th>32</th>\n",
       "      <td>Osteogenesis imperfecta</td>\n",
       "      <td>1</td>\n",
       "    </tr>\n",
       "    <tr>\n",
       "      <th>33</th>\n",
       "      <td>Osteogenesis imperfecta</td>\n",
       "      <td>1</td>\n",
       "    </tr>\n",
       "    <tr>\n",
       "      <th>34</th>\n",
       "      <td>Osteogenesis imperfecta</td>\n",
       "      <td>1</td>\n",
       "    </tr>\n",
       "    <tr>\n",
       "      <th>35</th>\n",
       "      <td>Osteogenesis imperfecta</td>\n",
       "      <td>1</td>\n",
       "    </tr>\n",
       "    <tr>\n",
       "      <th>36</th>\n",
       "      <td>Osteogenesis imperfecta</td>\n",
       "      <td>1</td>\n",
       "    </tr>\n",
       "    <tr>\n",
       "      <th>37</th>\n",
       "      <td>Osteogenesis imperfecta</td>\n",
       "      <td>1</td>\n",
       "    </tr>\n",
       "    <tr>\n",
       "      <th>38</th>\n",
       "      <td>Osteogenesis imperfecta</td>\n",
       "      <td>1</td>\n",
       "    </tr>\n",
       "    <tr>\n",
       "      <th>39</th>\n",
       "      <td>Osteogenesis imperfecta</td>\n",
       "      <td>1</td>\n",
       "    </tr>\n",
       "    <tr>\n",
       "      <th>40</th>\n",
       "      <td>Osteogenesis imperfecta</td>\n",
       "      <td>1</td>\n",
       "    </tr>\n",
       "    <tr>\n",
       "      <th>41</th>\n",
       "      <td>Osteogenesis imperfecta</td>\n",
       "      <td>1</td>\n",
       "    </tr>\n",
       "    <tr>\n",
       "      <th>42</th>\n",
       "      <td>Osteogenesis imperfecta</td>\n",
       "      <td>1</td>\n",
       "    </tr>\n",
       "    <tr>\n",
       "      <th>43</th>\n",
       "      <td>Osteogenesis imperfecta</td>\n",
       "      <td>1</td>\n",
       "    </tr>\n",
       "    <tr>\n",
       "      <th>44</th>\n",
       "      <td>Osteogenesis imperfecta</td>\n",
       "      <td>1</td>\n",
       "    </tr>\n",
       "    <tr>\n",
       "      <th>45</th>\n",
       "      <td>Osteogenesis imperfecta</td>\n",
       "      <td>1</td>\n",
       "    </tr>\n",
       "    <tr>\n",
       "      <th>46</th>\n",
       "      <td>Osteogenesis imperfecta</td>\n",
       "      <td>1</td>\n",
       "    </tr>\n",
       "    <tr>\n",
       "      <th>47</th>\n",
       "      <td>Osteogenesis imperfecta</td>\n",
       "      <td>1</td>\n",
       "    </tr>\n",
       "    <tr>\n",
       "      <th>48</th>\n",
       "      <td>Cystic fibrosis</td>\n",
       "      <td>2</td>\n",
       "    </tr>\n",
       "    <tr>\n",
       "      <th>49</th>\n",
       "      <td>Cystic fibrosis</td>\n",
       "      <td>2</td>\n",
       "    </tr>\n",
       "    <tr>\n",
       "      <th>50</th>\n",
       "      <td>Cystic fibrosis</td>\n",
       "      <td>2</td>\n",
       "    </tr>\n",
       "    <tr>\n",
       "      <th>51</th>\n",
       "      <td>Cystic fibrosis</td>\n",
       "      <td>2</td>\n",
       "    </tr>\n",
       "    <tr>\n",
       "      <th>52</th>\n",
       "      <td>Cystic fibrosis</td>\n",
       "      <td>2</td>\n",
       "    </tr>\n",
       "    <tr>\n",
       "      <th>53</th>\n",
       "      <td>Cystic fibrosis</td>\n",
       "      <td>2</td>\n",
       "    </tr>\n",
       "    <tr>\n",
       "      <th>54</th>\n",
       "      <td>Cystic fibrosis</td>\n",
       "      <td>2</td>\n",
       "    </tr>\n",
       "    <tr>\n",
       "      <th>55</th>\n",
       "      <td>Cystic fibrosis</td>\n",
       "      <td>2</td>\n",
       "    </tr>\n",
       "    <tr>\n",
       "      <th>56</th>\n",
       "      <td>Cystic fibrosis</td>\n",
       "      <td>2</td>\n",
       "    </tr>\n",
       "    <tr>\n",
       "      <th>57</th>\n",
       "      <td>Cystic fibrosis</td>\n",
       "      <td>2</td>\n",
       "    </tr>\n",
       "    <tr>\n",
       "      <th>58</th>\n",
       "      <td>Cystic fibrosis</td>\n",
       "      <td>2</td>\n",
       "    </tr>\n",
       "    <tr>\n",
       "      <th>59</th>\n",
       "      <td>Cystic fibrosis</td>\n",
       "      <td>2</td>\n",
       "    </tr>\n",
       "    <tr>\n",
       "      <th>60</th>\n",
       "      <td>Cystic fibrosis</td>\n",
       "      <td>2</td>\n",
       "    </tr>\n",
       "    <tr>\n",
       "      <th>61</th>\n",
       "      <td>Cystic fibrosis</td>\n",
       "      <td>2</td>\n",
       "    </tr>\n",
       "    <tr>\n",
       "      <th>62</th>\n",
       "      <td>Cystic fibrosis</td>\n",
       "      <td>2</td>\n",
       "    </tr>\n",
       "    <tr>\n",
       "      <th>63</th>\n",
       "      <td>Cystic fibrosis</td>\n",
       "      <td>2</td>\n",
       "    </tr>\n",
       "    <tr>\n",
       "      <th>64</th>\n",
       "      <td>Cystic fibrosis</td>\n",
       "      <td>2</td>\n",
       "    </tr>\n",
       "    <tr>\n",
       "      <th>65</th>\n",
       "      <td>Cystic fibrosis</td>\n",
       "      <td>2</td>\n",
       "    </tr>\n",
       "    <tr>\n",
       "      <th>66</th>\n",
       "      <td>Cystic fibrosis</td>\n",
       "      <td>2</td>\n",
       "    </tr>\n",
       "    <tr>\n",
       "      <th>67</th>\n",
       "      <td>Cystic fibrosis</td>\n",
       "      <td>2</td>\n",
       "    </tr>\n",
       "    <tr>\n",
       "      <th>68</th>\n",
       "      <td>Cystic fibrosis</td>\n",
       "      <td>2</td>\n",
       "    </tr>\n",
       "    <tr>\n",
       "      <th>69</th>\n",
       "      <td>Cystic fibrosis</td>\n",
       "      <td>2</td>\n",
       "    </tr>\n",
       "    <tr>\n",
       "      <th>70</th>\n",
       "      <td>Cystic fibrosis</td>\n",
       "      <td>2</td>\n",
       "    </tr>\n",
       "    <tr>\n",
       "      <th>71</th>\n",
       "      <td>Cystic fibrosis</td>\n",
       "      <td>2</td>\n",
       "    </tr>\n",
       "    <tr>\n",
       "      <th>72</th>\n",
       "      <td>Cystic fibrosis</td>\n",
       "      <td>2</td>\n",
       "    </tr>\n",
       "    <tr>\n",
       "      <th>73</th>\n",
       "      <td>Cystic fibrosis</td>\n",
       "      <td>2</td>\n",
       "    </tr>\n",
       "    <tr>\n",
       "      <th>74</th>\n",
       "      <td>Cystic fibrosis</td>\n",
       "      <td>2</td>\n",
       "    </tr>\n",
       "    <tr>\n",
       "      <th>75</th>\n",
       "      <td>Cystic fibrosis</td>\n",
       "      <td>2</td>\n",
       "    </tr>\n",
       "    <tr>\n",
       "      <th>76</th>\n",
       "      <td>Cystic fibrosis</td>\n",
       "      <td>2</td>\n",
       "    </tr>\n",
       "    <tr>\n",
       "      <th>77</th>\n",
       "      <td>Cystic fibrosis</td>\n",
       "      <td>2</td>\n",
       "    </tr>\n",
       "    <tr>\n",
       "      <th>78</th>\n",
       "      <td>Cystic fibrosis</td>\n",
       "      <td>2</td>\n",
       "    </tr>\n",
       "    <tr>\n",
       "      <th>79</th>\n",
       "      <td>Cystic fibrosis</td>\n",
       "      <td>2</td>\n",
       "    </tr>\n",
       "    <tr>\n",
       "      <th>80</th>\n",
       "      <td>spinal muscular atrophy</td>\n",
       "      <td>3</td>\n",
       "    </tr>\n",
       "    <tr>\n",
       "      <th>81</th>\n",
       "      <td>spinal muscular atrophy</td>\n",
       "      <td>3</td>\n",
       "    </tr>\n",
       "    <tr>\n",
       "      <th>82</th>\n",
       "      <td>spinal muscular atrophy</td>\n",
       "      <td>3</td>\n",
       "    </tr>\n",
       "    <tr>\n",
       "      <th>83</th>\n",
       "      <td>spinal muscular atrophy</td>\n",
       "      <td>3</td>\n",
       "    </tr>\n",
       "    <tr>\n",
       "      <th>84</th>\n",
       "      <td>spinal muscular atrophy</td>\n",
       "      <td>3</td>\n",
       "    </tr>\n",
       "    <tr>\n",
       "      <th>85</th>\n",
       "      <td>spinal muscular atrophy</td>\n",
       "      <td>3</td>\n",
       "    </tr>\n",
       "    <tr>\n",
       "      <th>86</th>\n",
       "      <td>Bardet-Biedl Syndrome</td>\n",
       "      <td>4</td>\n",
       "    </tr>\n",
       "    <tr>\n",
       "      <th>87</th>\n",
       "      <td>Bardet-Biedl Syndrome</td>\n",
       "      <td>4</td>\n",
       "    </tr>\n",
       "    <tr>\n",
       "      <th>88</th>\n",
       "      <td>Bardet-Biedl Syndrome</td>\n",
       "      <td>4</td>\n",
       "    </tr>\n",
       "    <tr>\n",
       "      <th>89</th>\n",
       "      <td>Bardet-Biedl Syndrome</td>\n",
       "      <td>4</td>\n",
       "    </tr>\n",
       "    <tr>\n",
       "      <th>90</th>\n",
       "      <td>Bardet-Biedl Syndrome</td>\n",
       "      <td>4</td>\n",
       "    </tr>\n",
       "    <tr>\n",
       "      <th>91</th>\n",
       "      <td>Bardet-Biedl Syndrome</td>\n",
       "      <td>4</td>\n",
       "    </tr>\n",
       "    <tr>\n",
       "      <th>92</th>\n",
       "      <td>Bardet-Biedl Syndrome</td>\n",
       "      <td>4</td>\n",
       "    </tr>\n",
       "    <tr>\n",
       "      <th>93</th>\n",
       "      <td>Bardet-Biedl Syndrome</td>\n",
       "      <td>4</td>\n",
       "    </tr>\n",
       "    <tr>\n",
       "      <th>94</th>\n",
       "      <td>Bardet-Biedl Syndrome</td>\n",
       "      <td>4</td>\n",
       "    </tr>\n",
       "    <tr>\n",
       "      <th>95</th>\n",
       "      <td>Bardet-Biedl Syndrome</td>\n",
       "      <td>4</td>\n",
       "    </tr>\n",
       "    <tr>\n",
       "      <th>96</th>\n",
       "      <td>Bardet-Biedl Syndrome</td>\n",
       "      <td>4</td>\n",
       "    </tr>\n",
       "    <tr>\n",
       "      <th>97</th>\n",
       "      <td>Bardet-Biedl Syndrome</td>\n",
       "      <td>4</td>\n",
       "    </tr>\n",
       "    <tr>\n",
       "      <th>98</th>\n",
       "      <td>Bardet-Biedl Syndrome</td>\n",
       "      <td>4</td>\n",
       "    </tr>\n",
       "    <tr>\n",
       "      <th>99</th>\n",
       "      <td>Bardet-Biedl Syndrome</td>\n",
       "      <td>4</td>\n",
       "    </tr>\n",
       "    <tr>\n",
       "      <th>100</th>\n",
       "      <td>Bardet-Biedl Syndrome</td>\n",
       "      <td>4</td>\n",
       "    </tr>\n",
       "    <tr>\n",
       "      <th>101</th>\n",
       "      <td>Bardet-Biedl Syndrome</td>\n",
       "      <td>4</td>\n",
       "    </tr>\n",
       "    <tr>\n",
       "      <th>102</th>\n",
       "      <td>Bardet-Biedl Syndrome</td>\n",
       "      <td>4</td>\n",
       "    </tr>\n",
       "  </tbody>\n",
       "</table>\n",
       "</div>"
      ],
      "text/plain": [
       "                        true_label  km_label\n",
       "0    Triple negative breast cancer  0       \n",
       "1    Triple negative breast cancer  0       \n",
       "2    Triple negative breast cancer  0       \n",
       "3    Triple negative breast cancer  0       \n",
       "4    Triple negative breast cancer  0       \n",
       "5    Triple negative breast cancer  0       \n",
       "6    Triple negative breast cancer  0       \n",
       "7    Triple negative breast cancer  0       \n",
       "8    Triple negative breast cancer  0       \n",
       "9    Triple negative breast cancer  0       \n",
       "10   Triple negative breast cancer  0       \n",
       "11   Triple negative breast cancer  0       \n",
       "12   Triple negative breast cancer  0       \n",
       "13   Triple negative breast cancer  0       \n",
       "14   Triple negative breast cancer  0       \n",
       "15   Triple negative breast cancer  0       \n",
       "16   Triple negative breast cancer  0       \n",
       "17   Triple negative breast cancer  0       \n",
       "18   Triple negative breast cancer  0       \n",
       "19   Triple negative breast cancer  0       \n",
       "20   Triple negative breast cancer  0       \n",
       "21   Triple negative breast cancer  0       \n",
       "22   Triple negative breast cancer  0       \n",
       "23   Neurofibromatosis              5       \n",
       "24   Neurofibromatosis              5       \n",
       "25   Neurofibromatosis              5       \n",
       "26   Neurofibromatosis              5       \n",
       "27   Neurofibromatosis              5       \n",
       "28   Neurofibromatosis              5       \n",
       "29   Neurofibromatosis              5       \n",
       "30   Neurofibromatosis              5       \n",
       "31   Neurofibromatosis              5       \n",
       "32   Osteogenesis imperfecta        1       \n",
       "33   Osteogenesis imperfecta        1       \n",
       "34   Osteogenesis imperfecta        1       \n",
       "35   Osteogenesis imperfecta        1       \n",
       "36   Osteogenesis imperfecta        1       \n",
       "37   Osteogenesis imperfecta        1       \n",
       "38   Osteogenesis imperfecta        1       \n",
       "39   Osteogenesis imperfecta        1       \n",
       "40   Osteogenesis imperfecta        1       \n",
       "41   Osteogenesis imperfecta        1       \n",
       "42   Osteogenesis imperfecta        1       \n",
       "43   Osteogenesis imperfecta        1       \n",
       "44   Osteogenesis imperfecta        1       \n",
       "45   Osteogenesis imperfecta        1       \n",
       "46   Osteogenesis imperfecta        1       \n",
       "47   Osteogenesis imperfecta        1       \n",
       "48   Cystic fibrosis                2       \n",
       "49   Cystic fibrosis                2       \n",
       "50   Cystic fibrosis                2       \n",
       "51   Cystic fibrosis                2       \n",
       "52   Cystic fibrosis                2       \n",
       "53   Cystic fibrosis                2       \n",
       "54   Cystic fibrosis                2       \n",
       "55   Cystic fibrosis                2       \n",
       "56   Cystic fibrosis                2       \n",
       "57   Cystic fibrosis                2       \n",
       "58   Cystic fibrosis                2       \n",
       "59   Cystic fibrosis                2       \n",
       "60   Cystic fibrosis                2       \n",
       "61   Cystic fibrosis                2       \n",
       "62   Cystic fibrosis                2       \n",
       "63   Cystic fibrosis                2       \n",
       "64   Cystic fibrosis                2       \n",
       "65   Cystic fibrosis                2       \n",
       "66   Cystic fibrosis                2       \n",
       "67   Cystic fibrosis                2       \n",
       "68   Cystic fibrosis                2       \n",
       "69   Cystic fibrosis                2       \n",
       "70   Cystic fibrosis                2       \n",
       "71   Cystic fibrosis                2       \n",
       "72   Cystic fibrosis                2       \n",
       "73   Cystic fibrosis                2       \n",
       "74   Cystic fibrosis                2       \n",
       "75   Cystic fibrosis                2       \n",
       "76   Cystic fibrosis                2       \n",
       "77   Cystic fibrosis                2       \n",
       "78   Cystic fibrosis                2       \n",
       "79   Cystic fibrosis                2       \n",
       "80   spinal muscular atrophy        3       \n",
       "81   spinal muscular atrophy        3       \n",
       "82   spinal muscular atrophy        3       \n",
       "83   spinal muscular atrophy        3       \n",
       "84   spinal muscular atrophy        3       \n",
       "85   spinal muscular atrophy        3       \n",
       "86   Bardet-Biedl Syndrome          4       \n",
       "87   Bardet-Biedl Syndrome          4       \n",
       "88   Bardet-Biedl Syndrome          4       \n",
       "89   Bardet-Biedl Syndrome          4       \n",
       "90   Bardet-Biedl Syndrome          4       \n",
       "91   Bardet-Biedl Syndrome          4       \n",
       "92   Bardet-Biedl Syndrome          4       \n",
       "93   Bardet-Biedl Syndrome          4       \n",
       "94   Bardet-Biedl Syndrome          4       \n",
       "95   Bardet-Biedl Syndrome          4       \n",
       "96   Bardet-Biedl Syndrome          4       \n",
       "97   Bardet-Biedl Syndrome          4       \n",
       "98   Bardet-Biedl Syndrome          4       \n",
       "99   Bardet-Biedl Syndrome          4       \n",
       "100  Bardet-Biedl Syndrome          4       \n",
       "101  Bardet-Biedl Syndrome          4       \n",
       "102  Bardet-Biedl Syndrome          4       "
      ]
     },
     "execution_count": 1014,
     "metadata": {},
     "output_type": "execute_result"
    }
   ],
   "source": [
    "pd.DataFrame(dict(true_label=labeled_set.topic, km_label=km.labels_))"
   ]
  },
  {
   "cell_type": "code",
   "execution_count": 990,
   "metadata": {},
   "outputs": [],
   "source": [
    "pd.set_option('display.max_columns', None)  # or 1000\n",
    "pd.set_option('display.max_rows', None)  # or 1000\n",
    "pd.set_option('display.max_colwidth', -1)  # or 199"
   ]
  },
  {
   "cell_type": "code",
   "execution_count": null,
   "metadata": {},
   "outputs": [],
   "source": []
  }
 ],
 "metadata": {
  "kernelspec": {
   "display_name": "Python 3",
   "language": "python",
   "name": "python3"
  },
  "language_info": {
   "codemirror_mode": {
    "name": "ipython",
    "version": 3
   },
   "file_extension": ".py",
   "mimetype": "text/x-python",
   "name": "python",
   "nbconvert_exporter": "python",
   "pygments_lexer": "ipython3",
   "version": "3.7.3"
  }
 },
 "nbformat": 4,
 "nbformat_minor": 2
}
